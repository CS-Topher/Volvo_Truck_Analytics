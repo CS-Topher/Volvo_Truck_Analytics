{
 "cells": [
  {
   "cell_type": "markdown",
   "metadata": {},
   "source": [
    "# Volvo Trucks Analytics"
   ]
  },
  {
   "cell_type": "markdown",
   "metadata": {},
   "source": [
    "Imports and global variables go here"
   ]
  },
  {
   "cell_type": "code",
   "execution_count": 197,
   "metadata": {},
   "outputs": [],
   "source": [
    "import pandas as pd\n",
    "import numpy as np\n",
    "import csv\n",
    "\n",
    "#The two truck data set paths are set here.\n",
    "truck1csv = \"../data/trucks/truck1.csv\"\n",
    "truck2csv = \"../data/trucks/truck2.csv\"\n",
    "\n",
    "#Number of records desired from the data set.\n",
    "numberOfRecords = 100\n",
    "\n",
    "#WIP: The column conversion dictionaries are defined here. (!) Consider moving to the utility folder to improve readability.\n",
    "#Incomplete dictionary.\n",
    "truck1dict = {\n",
    "    '1730_CH9_ AutomaticStartStop':'Automatic Start & Stop',\n",
    "    '1730_CH10_Truck_Batteries':'Truck Batteries'\n",
    "}\n",
    "\n",
    "#Incomplete dictionary.\n",
    "truck2dict = {\n",
    "    'C_1115_1_Alternator_250A':'Alternator 250A',\n",
    "    'C_1115_2_BattOut_100A':'Battery Out 100A'\n",
    "}"
   ]
  },
  {
   "cell_type": "markdown",
   "metadata": {},
   "source": [
    "Define all cleaning methods here"
   ]
  },
  {
   "cell_type": "code",
   "execution_count": 198,
   "metadata": {},
   "outputs": [],
   "source": [
    "def readCsv(truck, records):\n",
    "    return pd.read_csv(truck, nrows = records, header = [0])\n",
    "    \n",
    "def cullUtcCols(truckData):\n",
    "    noUTC = truckData.drop([\"UTC hour\", \"UTC minute\", \"UTC second\", \"UTC month\", \"UTC day\", \"UTC year\"], axis = 1)\n",
    "    return noUTC\n",
    "\n",
    "def renameColumns(dataFrame, dictionary):\n",
    "    \"\"\"Takes a DataFrame and a conversion dictionary as parameters; uses the dictionary to rename all matching columns then returns the changed DataFrame.\"\"\"\n",
    "    return dataFrame.rename(columns = dictionary)"
   ]
  },
  {
   "cell_type": "markdown",
   "metadata": {},
   "source": [
    "Cleaning of Truck 1 Data starts here"
   ]
  },
  {
   "cell_type": "code",
   "execution_count": 199,
   "metadata": {
    "scrolled": false
   },
   "outputs": [
    {
     "data": {
      "text/plain": [
       "(100, 45)"
      ]
     },
     "execution_count": 199,
     "metadata": {},
     "output_type": "execute_result"
    }
   ],
   "source": [
    "truck1data = readCsv(truck1csv, numberOfRecords)\n",
    "truck1data = cullUtcCols(truck1data)\n",
    "truck1data = renameColumns(truck1data, truck1dict)\n",
    "\n",
    "# After cleaning, check the shape of the dataframe\n",
    "truck1data.shape"
   ]
  },
  {
   "cell_type": "markdown",
   "metadata": {},
   "source": [
    "Cleaning of Truck 2 Data starts here"
   ]
  },
  {
   "cell_type": "code",
   "execution_count": 200,
   "metadata": {},
   "outputs": [],
   "source": [
    "#truck2data = readCsv(truck2csv)\n",
    "#truck2data = cullUtcCols(truck2data)\n",
    "\n",
    "# After cleaning, check the shape of the dataframe\n",
    "#truck2data.shape"
   ]
  },
  {
   "cell_type": "code",
   "execution_count": null,
   "metadata": {},
   "outputs": [],
   "source": []
  }
 ],
 "metadata": {
  "kernelspec": {
   "display_name": "Python 3",
   "language": "python",
   "name": "python3"
  },
  "language_info": {
   "codemirror_mode": {
    "name": "ipython",
    "version": 3
   },
   "file_extension": ".py",
   "mimetype": "text/x-python",
   "name": "python",
   "nbconvert_exporter": "python",
   "pygments_lexer": "ipython3",
   "version": "3.7.4"
  }
 },
 "nbformat": 4,
 "nbformat_minor": 2
}
