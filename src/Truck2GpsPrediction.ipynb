{
 "cells": [
  {
   "cell_type": "markdown",
   "metadata": {},
   "source": [
    "# Predicting 'GPS Speed' of Truck 2"
   ]
  },
  {
   "cell_type": "markdown",
   "metadata": {},
   "source": [
    "#### Imports and global variables are defined here."
   ]
  },
  {
   "cell_type": "code",
   "execution_count": 1,
   "metadata": {},
   "outputs": [],
   "source": [
    "# Imports required for this notebook.\n",
    "import csv\n",
    "import matplotlib.pyplot as plt\n",
    "import numpy as np\n",
    "import pandas as pd\n",
    "import scipy\n",
    "import scipy.stats as stats\n",
    "import seaborn as sns\n",
    "\n",
    "# Local path to the CSV file containing the data for truck one (1).\n",
    "truckOnePath = \"../data/trucks/truck1.csv\"\n",
    "\n",
    "# Local path to the CSV file containing the data for truck two (2).\n",
    "truckTwoPath = \"../data/trucks/truck2.csv\""
   ]
  },
  {
   "cell_type": "markdown",
   "metadata": {},
   "source": [
    "#### Functions are defined here."
   ]
  },
  {
   "cell_type": "code",
   "execution_count": 2,
   "metadata": {},
   "outputs": [],
   "source": [
    "\"\"\"Uses Pandas's read_csv method to read a CSV file and returns a DataFrame of it to the notebook.\n",
    "This function reads in all rows and defines the header row at index 0 by default.\"\"\"\n",
    "def readCsv(truck, records = None, headerIdx = 0):\n",
    "    return pd.read_csv(truck, nrows = records, header = [headerIdx])\n",
    "\n",
    "\"\"\"Takes a data frame of a truck (with inaccurate data) and the mean difference of a \n",
    "different truck (with accurate data) in order to attempt to predict or correct the GPS Speed value.\"\"\"\n",
    "def correctGps(truckDf, meanDiff):\n",
    "    # TODO: Loop through Truck 2 Wheel-Based Vehicle Speed and create a predicted GPS Speed column based on the given mean."
   ]
  },
  {
   "cell_type": "markdown",
   "metadata": {},
   "source": [
    "#### Predicting GPS Speed for Truck 2"
   ]
  },
  {
   "cell_type": "markdown",
   "metadata": {},
   "source": [
    "Based on our previous statistics, it is clear that the GPS Speed for Truck 2 is incorrect. Perhaps the component was broken, or maybe it was set to a different unit. Either way, it is not consistent with the Wheel-Based Vehicle Speed (which appears to be working correctly) and it is not consistent with the trends found in Truck 1, where both components were measuring relatively similar speeds at any given time.\n",
    "\n",
    "In an attempt to rectify this, we will be using data from Truck 1 and analytically predict the GPS Speed values for Truck 2 given its Wheel-Based Vehicle Speed values."
   ]
  },
  {
   "cell_type": "code",
   "execution_count": 3,
   "metadata": {},
   "outputs": [],
   "source": [
    "# Read in the data for Truck 1.\n",
    "truckOneDf = readCsv(truckOnePath)\n",
    "truckOneDf = truckOneDf.ffill().bfill()\n",
    "\n",
    "# Read in the data for Truck 2.\n",
    "truckTwoDf = readCsv(truckTwoPath)\n",
    "truckTwoDf = truckTwoDf.ffill().bfill()"
   ]
  },
  {
   "cell_type": "markdown",
   "metadata": {},
   "source": [
    "To decide how to correct Truck 2's GPS Speed, we need to find the difference between the two components for Truck 1."
   ]
  },
  {
   "cell_type": "code",
   "execution_count": 20,
   "metadata": {},
   "outputs": [
    {
     "name": "stdout",
     "output_type": "stream",
     "text": [
      "-0.28539807628549124\n"
     ]
    }
   ],
   "source": [
    "# Subtract the values of Wheel-Based Vehicle Speed from GPS Speed for Truck 1.\n",
    "truckOneDiff = truckOneDf['GPS speed'].sub(truckOneDf['WheelBasedVehicleSpeed'])\n",
    "\n",
    "# Calculate the average difference between all of the points of difference.\n",
    "truckOneDiffMean = truckOneDiff.mean()\n",
    "\n",
    "# Print the average difference of both components for Truck 1.\n",
    "print(truckOneDiffMean)"
   ]
  },
  {
   "cell_type": "markdown",
   "metadata": {},
   "source": [
    "Notice that the value is a negative number. This indicates that the GPS Speed component is, on average, reading a slightly higher value than the Wheel-Based Vehicle Speed component. Therefore, to begin predicting, or \"correcting\", the GPS Speed for Truck 2, we can start by simply adding that average to any given Wheel-Based Vehicle Speed value for Truck 2."
   ]
  },
  {
   "cell_type": "code",
   "execution_count": null,
   "metadata": {},
   "outputs": [],
   "source": [
    "correctedTruckTwoDf = correctGps(truckTwoDf, truckOneDiffMean)\n",
    "correctedTruckTwoDf.head()"
   ]
  }
 ],
 "metadata": {
  "kernelspec": {
   "display_name": "Python 3",
   "language": "python",
   "name": "python3"
  },
  "language_info": {
   "codemirror_mode": {
    "name": "ipython",
    "version": 3
   },
   "file_extension": ".py",
   "mimetype": "text/x-python",
   "name": "python",
   "nbconvert_exporter": "python",
   "pygments_lexer": "ipython3",
   "version": "3.7.5"
  }
 },
 "nbformat": 4,
 "nbformat_minor": 2
}
