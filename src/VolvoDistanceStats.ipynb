{
 "cells": [
  {
   "cell_type": "code",
   "execution_count": 22,
   "metadata": {},
   "outputs": [],
   "source": [
    "import pandas as pd\n",
    "import numpy as np\n",
    "import csv\n",
    "import matplotlib.pyplot as plt\n",
    "import datetime\n",
    "import numpy\n",
    "import math\n",
    "import seaborn as sns\n",
    "from scipy.stats import ttest_1samp\n",
    "from scipy.stats import ttest_ind\n",
    "\n",
    "#The two truck data set paths are set here.\n",
    "truck1csv = \"../data/trucks/truck1.csv\"\n",
    "truck2csv = \"../data/trucks/truck2.csv\"\n",
    "\n",
    "#The two column header dictonary paths are set here.\n",
    "truck1dictcsv = \"../data/dictionary/truck1dict.csv\"\n",
    "truck2dictcsv = \"../data/dictionary/truck2dict.csv\"\n",
    "\n",
    "#Number of records desired from the data set.\n",
    "numberOfRecords = 100\n",
    "\n",
    "#If the number of values that are NOT Na type pass this percentage, the row will be deleted\n",
    "rowNaNThresholdPercent = 75\n",
    "\n",
    "#Create column conversion dictionaries from CSV files.\n",
    "truck1dict={}\n",
    "truck2dict={}\n",
    "with open(truck1dictcsv, 'r') as f:\n",
    "    for row in csv.reader(f):\n",
    "        truck1dict.update({row[0]:row[1]})\n",
    "        \n",
    "with open(truck2dictcsv, 'r') as f:\n",
    "    for row in csv.reader(f):\n",
    "        truck2dict.update({row[0]:row[1]})\n"
   ]
  },
  {
   "cell_type": "code",
   "execution_count": 8,
   "metadata": {},
   "outputs": [],
   "source": [
    "def readCsv(truck):\n",
    "    return pd.read_csv(truck, header = [0])\n",
    "    \n",
    "def cullUtcCols(truckData):\n",
    "    noUTC = truckData.drop([\"UTC hour\", \"UTC minute\", \"UTC second\", \"UTC month\", \"UTC day\", \"UTC year\"], axis = 1)\n",
    "    return noUTC\n",
    "\n",
    "\"\"\"Takes a DataFrame and a conversion dictionary as parameters;\n",
    "    uses the dictionary to rename all matching columns then returns the changed DataFrame.\"\"\"\n",
    "def renameColumns(dataFrame, dictionary):\n",
    "    return dataFrame.rename(columns = dictionary)\n",
    "\n",
    "\"\"\"Finds threshold of Non-NA type using percentage and deletes rows.\"\"\"\n",
    "def removeUnnecessaryRows(dataFrame):\n",
    "    length = len(dataFrame.columns)\n",
    "    TValue = (rowNaNThresholdPercent / 100) * length\n",
    "    print(\"Threshold value: \" + str(int(TValue)))\n",
    "    return dataFrame.dropna(thresh = int(TValue))\n",
    "\n",
    "\"\"\"Finds columns with all Na types and deletes them.\"\"\"\n",
    "def removeUnnecessaryColumns(dataFrame):\n",
    "    return dataFrame.dropna(axis=1, how='all')\n",
    "\n",
    "# NOTE: The following function is unused in this notebook, but it can be used to convert CSV files into\n",
    "# conversion dictionaries i.e. creating the column rename dictionaries, which was manually done in the\n",
    "# previous block manually.\n",
    "\n",
    "\"\"\"Creates a Python dictionary from a pre-defined CSV dictionary.\n",
    "This will only look at the first two columns of the given CSV file.\"\"\"\n",
    "def createPythonDictionary(dictionaryCSV):\n",
    "    # Initialize the resulting dictionary.\n",
    "    dictResult = {}\n",
    "    \n",
    "    # Opens the passed in CSV which defines the rename dictionary and iterates through it to store each value into a Python dictionary.\n",
    "    with open(dictionaryCSV, 'r') as f:\n",
    "        for row in csv.reader(f):\n",
    "            dictResult.update({row[0]:row[1]})\n",
    "    return dictResult"
   ]
  },
  {
   "cell_type": "code",
   "execution_count": 9,
   "metadata": {},
   "outputs": [
    {
     "name": "stdout",
     "output_type": "stream",
     "text": [
      "Threshold value: 33\n",
      "Threshold value: 30\n"
     ]
    }
   ],
   "source": [
    "truck1data = readCsv(truck1csv)\n",
    "truck1data = cullUtcCols(truck1data)\n",
    "truck1data = removeUnnecessaryRows(truck1data)\n",
    "truck1data = renameColumns(truck1data, truck1dict)\n",
    "truck1data = removeUnnecessaryColumns(truck1data)\n",
    "\n",
    "truck2data = readCsv(truck2csv)\n",
    "truck2data = cullUtcCols(truck2data)\n",
    "truck2data = removeUnnecessaryRows(truck2data)\n",
    "truck2data = renameColumns(truck2data, truck2dict)\n",
    "truck2data = removeUnnecessaryColumns(truck2data)"
   ]
  },
  {
   "cell_type": "code",
   "execution_count": 10,
   "metadata": {},
   "outputs": [],
   "source": [
    "def divideByDay(truck_df, byday_df=None):\n",
    "    dates = []\n",
    "    #truck_df = truck_df.head()\n",
    "    for index, tdata in truck_df.iterrows():\n",
    "        dates.append(tdata['Time (DateTime)'].split(' ')[0])\n",
    "        #print(index, dates)\n",
    "        \n",
    "    truck_df['Time (DateTime)'] = dates\n",
    "    \n",
    "    if(byday_df):\n",
    "        byday_df = truck_df.groupby('Time (DateTime)')[byday_df].mean()\n",
    "    else:\n",
    "        byday_df = truck_df.groupby('Time (DateTime)').mean()\n",
    "\n",
    "    return byday_df\n",
    "\n",
    "## Same use as divideByDay() but needs second parameter!! If no parameter given, error will be thrown.\n",
    "def outlierDetection(truck_df, column_attribute):\n",
    "\n",
    "    iterateData = 0\n",
    "    fiveNum = [truck_df[column_attribute].quantile(0), truck_df[column_attribute].quantile(.25), truck_df[column_attribute].quantile(.5), truck_df[column_attribute].quantile(.75), truck_df[column_attribute].quantile(1)]\n",
    "    iqr = fiveNum[3] - fiveNum[1]\n",
    "    low_outl = fiveNum[1] - (1.5 * iqr)\n",
    "    high_outl = fiveNum[3] + (1.5 * iqr)\n",
    "    print(\"Before Outlier Deletion: \" + str(fiveNum))\n",
    "    print(\"Low bound: \" + str(low_outl))\n",
    "    print(\"High bound: \" + str(high_outl))\n",
    " \n",
    "    truck_df = truck_df[(truck_df[column_attribute] > low_outl)]\n",
    "    truck_df = truck_df[(truck_df[column_attribute] < high_outl)]\n",
    "    fiveNum = [truck_df[column_attribute].quantile(0), truck_df[column_attribute].quantile(.25), truck_df[column_attribute].quantile(.5), truck_df[column_attribute].quantile(.75), truck_df[column_attribute].quantile(1)]\n",
    "    #iqr = fiveNum[3] - fiveNum[1]\n",
    "    #low_outl = fiveNum[1] - (1.5 * iqr)\n",
    "    #high_outl = fiveNum[3] + (1.5 * iqr)\n",
    "    print(\"After Outlier Deletion: \" + str(fiveNum))\n",
    "\n",
    "    sns.boxplot(x=truck_df[column_attribute], showfliers=False)\n",
    "\n",
    "    return truck_df"
   ]
  },
  {
   "cell_type": "code",
   "execution_count": 47,
   "metadata": {},
   "outputs": [
    {
     "data": {
      "text/plain": [
       "Ttest_indResult(statistic=-31.838743204959513, pvalue=4.382305081346166e-106)"
      ]
     },
     "execution_count": 47,
     "metadata": {},
     "output_type": "execute_result"
    }
   ],
   "source": [
    "# Create empty list for point estimates.\n",
    "truck1estimates = []\n",
    "truck2estimates = []\n",
    "\n",
    "# Runs through Oil Tempratures to get 200 samples, each of size 50.\n",
    "for x in range(200):\n",
    "    truck1estimates.append(truck1data['Oil Temperature (C)'].sample(n=50).mean())\n",
    "    \n",
    "for x in range(200):\n",
    "    truck2estimates.append(truck2data['Oil Temperature (C)'].sample(n=50).mean())\n",
    "    \n",
    "ttest_ind(a = truck1estimates, b = truck2estimates, equal_var = False)\n",
    "\n",
    "    "
   ]
  }
 ],
 "metadata": {
  "kernelspec": {
   "display_name": "Python 3",
   "language": "python",
   "name": "python3"
  },
  "language_info": {
   "codemirror_mode": {
    "name": "ipython",
    "version": 3
   },
   "file_extension": ".py",
   "mimetype": "text/x-python",
   "name": "python",
   "nbconvert_exporter": "python",
   "pygments_lexer": "ipython3",
   "version": "3.7.4"
  }
 },
 "nbformat": 4,
 "nbformat_minor": 2
}
