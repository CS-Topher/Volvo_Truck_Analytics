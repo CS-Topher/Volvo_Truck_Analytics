{
 "cells": [
  {
   "cell_type": "markdown",
   "metadata": {},
   "source": [
    "# Volvo Trucks Analytics"
   ]
  },
  {
   "cell_type": "markdown",
   "metadata": {},
   "source": [
    "Imports and global variables go here"
   ]
  },
  {
   "cell_type": "code",
   "execution_count": 29,
   "metadata": {},
   "outputs": [],
   "source": [
    "import pandas as pd\n",
    "\n",
    "truck1csv = \"../data/trucks/truck1.csv\"\n",
    "truck2csv = \"../data/trucks/truck2.csv\""
   ]
  },
  {
   "cell_type": "markdown",
   "metadata": {},
   "source": [
    "Define all cleaning methods here"
   ]
  },
  {
   "cell_type": "code",
   "execution_count": 30,
   "metadata": {},
   "outputs": [],
   "source": [
    "def readCsv (truck):\n",
    "    return pd.read_csv(truck, header=[0])\n",
    "    \n",
    "def cullUtcCols (truckData):\n",
    "    noUTC = truckData.drop([\"UTC hour\", \"UTC minute\", \"UTC second\", \"UTC month\", \"UTC day\", \"UTC year\"], axis = 1)\n",
    "    return noUTC"
   ]
  },
  {
   "cell_type": "markdown",
   "metadata": {},
   "source": [
    "Cleaning of Truck 1 Data starts here"
   ]
  },
  {
   "cell_type": "code",
   "execution_count": 32,
   "metadata": {},
   "outputs": [
    {
     "data": {
      "text/plain": [
       "(1216689, 45)"
      ]
     },
     "execution_count": 32,
     "metadata": {},
     "output_type": "execute_result"
    }
   ],
   "source": [
    "truck1data = readCsv(truck1csv)\n",
    "truck1data = cullUtcCols(truck1data)\n",
    "\n",
    "# After cleaning, check the shape of the dataframe\n",
    "truck1data.shape"
   ]
  },
  {
   "cell_type": "markdown",
   "metadata": {},
   "source": [
    "Cleaning of Truck 2 Data starts here"
   ]
  },
  {
   "cell_type": "code",
   "execution_count": 33,
   "metadata": {},
   "outputs": [
    {
     "data": {
      "text/plain": [
       "(1686323, 40)"
      ]
     },
     "execution_count": 33,
     "metadata": {},
     "output_type": "execute_result"
    }
   ],
   "source": [
    "truck2data = readCsv(truck2csv)\n",
    "truck2data = cullUtcCols(truck2data)\n",
    "\n",
    "# After cleaning, check the shape of the dataframe\n",
    "truck2data.shape"
   ]
  }
 ],
 "metadata": {
  "kernelspec": {
   "display_name": "Python 3",
   "language": "python",
   "name": "python3"
  },
  "language_info": {
   "codemirror_mode": {
    "name": "ipython",
    "version": 3
   },
   "file_extension": ".py",
   "mimetype": "text/x-python",
   "name": "python",
   "nbconvert_exporter": "python",
   "pygments_lexer": "ipython3",
   "version": "3.7.4"
  }
 },
 "nbformat": 4,
 "nbformat_minor": 2
}
