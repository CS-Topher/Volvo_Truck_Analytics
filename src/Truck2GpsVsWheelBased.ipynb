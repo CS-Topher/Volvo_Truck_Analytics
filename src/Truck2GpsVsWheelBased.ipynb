{
 "cells": [
  {
   "cell_type": "markdown",
   "metadata": {},
   "source": [
    "# Truck 2: GPS Speed vs. Wheel-Based Speed"
   ]
  },
  {
   "cell_type": "markdown",
   "metadata": {},
   "source": [
    "#### Imports and global variables are defined here."
   ]
  },
  {
   "cell_type": "code",
   "execution_count": 7,
   "metadata": {},
   "outputs": [],
   "source": [
    "# Imports required for this notebook.\n",
    "import numpy as np\n",
    "import pandas as pd\n",
    "import csv\n",
    "import matplotlib.pyplot as plt\n",
    "import datetime\n",
    "\n",
    "# Local path to the CSV file containing the data for truck two (2).\n",
    "truckTwoPath = \"../data/trucks/truck2.csv\"\n",
    "\n",
    "# Local path to the column dictionary for truck two (2).\n",
    "truckTwoDictPath = \"../data/dictionary/truck2dict.csv\"\n",
    "\n",
    "#If the number of values that are NOT Na type pass this percentage, the row will be deleted\n",
    "rowNaNThresholdPercent = 75"
   ]
  },
  {
   "cell_type": "markdown",
   "metadata": {},
   "source": [
    "#### Functions are defined here.\n",
    "*NOTE: We need to discuss reusable code and how we're going to handle commonly-used functions.*"
   ]
  },
  {
   "cell_type": "code",
   "execution_count": 3,
   "metadata": {},
   "outputs": [],
   "source": [
    "\"\"\"Uses Pandas's read_csv method to read a CSV file and returns a DataFrame of it to the notebook.\n",
    "This function reads in all rows and defines the header row at index 0 by default.\"\"\"\n",
    "def readCsv(truck, records = None, headerIdx = 0):\n",
    "    return pd.read_csv(truck, nrows = records, header = [headerIdx])\n",
    "\n",
    "\"\"\"Creates a Python dictionary from a pre-defined CSV dictionary.\n",
    "This will only look at the first two columns of the given CSV file.\"\"\"\n",
    "def createPythonDictionary(dictionaryCSV):\n",
    "    # Initialize the resulting dictionary.\n",
    "    dictResult = {}\n",
    "    \n",
    "    # Opens the passed in CSV which defines the rename dictionary and iterates through it to store each value into a Python dictionary.\n",
    "    with open(dictionaryCSV, 'r') as f:\n",
    "        for row in csv.reader(f):\n",
    "            dictResult.update({row[0]:row[1]})\n",
    "    return dictResult\n",
    "\n",
    "\"\"\"Returns a DataFrame without the UTC columns. Specific to the given Volvo truck data.\"\"\"\n",
    "def cullUtcCols(truckData):\n",
    "    noUTC = truckData.drop([\"UTC hour\", \"UTC minute\", \"UTC second\", \"UTC month\", \"UTC day\", \"UTC year\"], axis = 1)\n",
    "    return noUTC\n",
    "\n",
    "\"\"\"Takes a DataFrame and a dictionary as parameters; uses the dictionary to rename all matching columns then\n",
    "returns the changed DataFrame.\"\"\"\n",
    "def renameColumns(dataFrame, dictionary):\n",
    "    return dataFrame.rename(columns = dictionary)\n",
    "\n",
    "\"\"\"Finds threshold of Non-NA type using percentage and deletes rows.\"\"\"\n",
    "def removeUnnecessaryRows(dataFrame):\n",
    "    length = len(dataFrame.columns)\n",
    "    TValue = (rowNaNThresholdPercent / 100) * length\n",
    "    #print(\"Threshold value: \" + str(int(TValue)))\n",
    "    return dataFrame.dropna(thresh = int(TValue))\n",
    "\n",
    "\"\"\"Finds columns with all Na types and deletes them.\"\"\"\n",
    "def removeUnnecessaryColumns(dataFrame):\n",
    "    return dataFrame.dropna(axis=1, how='all')\n",
    "\n",
    "def divideByDay(truck_df, byday_df = None):\n",
    "    dates = []\n",
    "    #truck_df = truck_df.head()\n",
    "    for index, tdata in truck_df.iterrows():\n",
    "        dates.append(tdata['Time (DateTime)'].split(' ')[0])\n",
    "        #print(index, dates)\n",
    "        \n",
    "    truck_df['Time (DateTime)'] = dates\n",
    "    \n",
    "    if(byday_df):\n",
    "        byday_df = truck_df.groupby('Time (DateTime)')[byday_df].mean()\n",
    "    else:\n",
    "        byday_df = truck_df.groupby('Time (DateTime)').mean()\n",
    "\n",
    "    return byday_df"
   ]
  },
  {
   "cell_type": "markdown",
   "metadata": {},
   "source": [
    "#### Notebook driver script from here on."
   ]
  },
  {
   "cell_type": "markdown",
   "metadata": {},
   "source": [
    "Reading in the truck data; one can change how many records are read by using \"records = <#>\" in the readCsv function or remove it entirely to read all records."
   ]
  },
  {
   "cell_type": "code",
   "execution_count": 4,
   "metadata": {},
   "outputs": [
    {
     "data": {
      "text/html": [
       "<div>\n",
       "<style scoped>\n",
       "    .dataframe tbody tr th:only-of-type {\n",
       "        vertical-align: middle;\n",
       "    }\n",
       "\n",
       "    .dataframe tbody tr th {\n",
       "        vertical-align: top;\n",
       "    }\n",
       "\n",
       "    .dataframe thead th {\n",
       "        text-align: right;\n",
       "    }\n",
       "</style>\n",
       "<table border=\"1\" class=\"dataframe\">\n",
       "  <thead>\n",
       "    <tr style=\"text-align: right;\">\n",
       "      <th></th>\n",
       "      <th>Time</th>\n",
       "      <th>C_1115_1_Alternator_250A</th>\n",
       "      <th>C_1115_2_BattOut_100A</th>\n",
       "      <th>C_1115_3_Fridge_20A</th>\n",
       "      <th>C_1115_4_Trailer_50A</th>\n",
       "      <th>C_1115_5_Inventer_100A</th>\n",
       "      <th>TotalVehicleDistanceHighRes</th>\n",
       "      <th>EngineSpeed</th>\n",
       "      <th>WheelBasedVehicleSpeed</th>\n",
       "      <th>asu_UreaTankTemp</th>\n",
       "      <th>...</th>\n",
       "      <th>tse_TurboSpeed</th>\n",
       "      <th>CPU load</th>\n",
       "      <th>UTC hour</th>\n",
       "      <th>UTC minute</th>\n",
       "      <th>UTC second</th>\n",
       "      <th>UTC month</th>\n",
       "      <th>UTC day</th>\n",
       "      <th>UTC year</th>\n",
       "      <th>GPS altitude</th>\n",
       "      <th>GPS speed</th>\n",
       "    </tr>\n",
       "  </thead>\n",
       "  <tbody>\n",
       "    <tr>\n",
       "      <th>0</th>\n",
       "      <td>03/11/2019 14:49:09.038</td>\n",
       "      <td>-35.452125</td>\n",
       "      <td>4.949645</td>\n",
       "      <td>0.555047</td>\n",
       "      <td>-0.430114</td>\n",
       "      <td>-2.283131</td>\n",
       "      <td>NaN</td>\n",
       "      <td>1096.375</td>\n",
       "      <td>106.886719</td>\n",
       "      <td>NaN</td>\n",
       "      <td>...</td>\n",
       "      <td>NaN</td>\n",
       "      <td>75.0</td>\n",
       "      <td>18.0</td>\n",
       "      <td>49.0</td>\n",
       "      <td>11.0</td>\n",
       "      <td>3.0</td>\n",
       "      <td>11.0</td>\n",
       "      <td>19.0</td>\n",
       "      <td>337.5</td>\n",
       "      <td>29.323334</td>\n",
       "    </tr>\n",
       "    <tr>\n",
       "      <th>1</th>\n",
       "      <td>03/11/2019 14:49:09.138</td>\n",
       "      <td>-35.480735</td>\n",
       "      <td>5.270085</td>\n",
       "      <td>0.626764</td>\n",
       "      <td>-0.420577</td>\n",
       "      <td>-2.294575</td>\n",
       "      <td>NaN</td>\n",
       "      <td>1098.875</td>\n",
       "      <td>107.101562</td>\n",
       "      <td>NaN</td>\n",
       "      <td>...</td>\n",
       "      <td>NaN</td>\n",
       "      <td>75.0</td>\n",
       "      <td>18.0</td>\n",
       "      <td>49.0</td>\n",
       "      <td>11.0</td>\n",
       "      <td>3.0</td>\n",
       "      <td>11.0</td>\n",
       "      <td>19.0</td>\n",
       "      <td>337.5</td>\n",
       "      <td>29.323334</td>\n",
       "    </tr>\n",
       "    <tr>\n",
       "      <th>2</th>\n",
       "      <td>03/11/2019 14:49:09.238</td>\n",
       "      <td>-35.480735</td>\n",
       "      <td>5.197604</td>\n",
       "      <td>0.568780</td>\n",
       "      <td>-62.500000</td>\n",
       "      <td>-2.271687</td>\n",
       "      <td>NaN</td>\n",
       "      <td>1096.750</td>\n",
       "      <td>107.089844</td>\n",
       "      <td>NaN</td>\n",
       "      <td>...</td>\n",
       "      <td>NaN</td>\n",
       "      <td>75.0</td>\n",
       "      <td>18.0</td>\n",
       "      <td>49.0</td>\n",
       "      <td>11.0</td>\n",
       "      <td>3.0</td>\n",
       "      <td>11.0</td>\n",
       "      <td>19.0</td>\n",
       "      <td>337.5</td>\n",
       "      <td>29.323334</td>\n",
       "    </tr>\n",
       "    <tr>\n",
       "      <th>3</th>\n",
       "      <td>03/11/2019 14:49:09.338</td>\n",
       "      <td>-35.452125</td>\n",
       "      <td>5.418860</td>\n",
       "      <td>0.638209</td>\n",
       "      <td>-62.500000</td>\n",
       "      <td>-2.290761</td>\n",
       "      <td>411617045.0</td>\n",
       "      <td>1098.375</td>\n",
       "      <td>106.921875</td>\n",
       "      <td>NaN</td>\n",
       "      <td>...</td>\n",
       "      <td>NaN</td>\n",
       "      <td>75.0</td>\n",
       "      <td>18.0</td>\n",
       "      <td>49.0</td>\n",
       "      <td>11.0</td>\n",
       "      <td>3.0</td>\n",
       "      <td>11.0</td>\n",
       "      <td>19.0</td>\n",
       "      <td>337.5</td>\n",
       "      <td>29.323334</td>\n",
       "    </tr>\n",
       "    <tr>\n",
       "      <th>4</th>\n",
       "      <td>03/11/2019 14:49:09.438</td>\n",
       "      <td>-35.471199</td>\n",
       "      <td>5.228122</td>\n",
       "      <td>0.590143</td>\n",
       "      <td>-62.500000</td>\n",
       "      <td>-2.283131</td>\n",
       "      <td>411617045.0</td>\n",
       "      <td>1101.750</td>\n",
       "      <td>107.109375</td>\n",
       "      <td>NaN</td>\n",
       "      <td>...</td>\n",
       "      <td>NaN</td>\n",
       "      <td>75.0</td>\n",
       "      <td>18.0</td>\n",
       "      <td>49.0</td>\n",
       "      <td>11.0</td>\n",
       "      <td>3.0</td>\n",
       "      <td>11.0</td>\n",
       "      <td>19.0</td>\n",
       "      <td>337.5</td>\n",
       "      <td>29.323334</td>\n",
       "    </tr>\n",
       "  </tbody>\n",
       "</table>\n",
       "<p>5 rows × 46 columns</p>\n",
       "</div>"
      ],
      "text/plain": [
       "                      Time  C_1115_1_Alternator_250A  C_1115_2_BattOut_100A  \\\n",
       "0  03/11/2019 14:49:09.038                -35.452125               4.949645   \n",
       "1  03/11/2019 14:49:09.138                -35.480735               5.270085   \n",
       "2  03/11/2019 14:49:09.238                -35.480735               5.197604   \n",
       "3  03/11/2019 14:49:09.338                -35.452125               5.418860   \n",
       "4  03/11/2019 14:49:09.438                -35.471199               5.228122   \n",
       "\n",
       "   C_1115_3_Fridge_20A  C_1115_4_Trailer_50A  C_1115_5_Inventer_100A  \\\n",
       "0             0.555047             -0.430114               -2.283131   \n",
       "1             0.626764             -0.420577               -2.294575   \n",
       "2             0.568780            -62.500000               -2.271687   \n",
       "3             0.638209            -62.500000               -2.290761   \n",
       "4             0.590143            -62.500000               -2.283131   \n",
       "\n",
       "   TotalVehicleDistanceHighRes  EngineSpeed  WheelBasedVehicleSpeed  \\\n",
       "0                          NaN     1096.375              106.886719   \n",
       "1                          NaN     1098.875              107.101562   \n",
       "2                          NaN     1096.750              107.089844   \n",
       "3                  411617045.0     1098.375              106.921875   \n",
       "4                  411617045.0     1101.750              107.109375   \n",
       "\n",
       "   asu_UreaTankTemp  ...  tse_TurboSpeed  CPU load  UTC hour  UTC minute  \\\n",
       "0               NaN  ...             NaN      75.0      18.0        49.0   \n",
       "1               NaN  ...             NaN      75.0      18.0        49.0   \n",
       "2               NaN  ...             NaN      75.0      18.0        49.0   \n",
       "3               NaN  ...             NaN      75.0      18.0        49.0   \n",
       "4               NaN  ...             NaN      75.0      18.0        49.0   \n",
       "\n",
       "   UTC second  UTC month  UTC day  UTC year  GPS altitude  GPS speed  \n",
       "0        11.0        3.0     11.0      19.0         337.5  29.323334  \n",
       "1        11.0        3.0     11.0      19.0         337.5  29.323334  \n",
       "2        11.0        3.0     11.0      19.0         337.5  29.323334  \n",
       "3        11.0        3.0     11.0      19.0         337.5  29.323334  \n",
       "4        11.0        3.0     11.0      19.0         337.5  29.323334  \n",
       "\n",
       "[5 rows x 46 columns]"
      ]
     },
     "execution_count": 4,
     "metadata": {},
     "output_type": "execute_result"
    }
   ],
   "source": [
    "truckTwoDf = readCsv(truckTwoPath)\n",
    "truckTwoDf.head()"
   ]
  },
  {
   "cell_type": "code",
   "execution_count": 5,
   "metadata": {
    "scrolled": false
   },
   "outputs": [
    {
     "data": {
      "text/plain": [
       "<matplotlib.axes._subplots.AxesSubplot at 0x287ca2a9fc8>"
      ]
     },
     "execution_count": 5,
     "metadata": {},
     "output_type": "execute_result"
    },
    {
     "data": {
      "image/png": "[encoded data removed]",
      "text/plain": [
       "<Figure size 432x288 with 1 Axes>"
      ]
     },
     "metadata": {
      "needs_background": "light"
     },
     "output_type": "display_data"
    },
    {
     "data": {
      "image/png": "[encoded data removed]",
      "text/plain": [
       "<Figure size 432x288 with 1 Axes>"
      ]
     },
     "metadata": {
      "needs_background": "light"
     },
     "output_type": "display_data"
    }
   ],
   "source": [
    "columns = ['GPS speed', 'WheelBasedVehicleSpeed']\n",
    "gpsSpeedHist = truckTwoDf[['GPS speed']].plot.hist(stacked=True)\n",
    "gpsSpeedHist.set_xlabel('GPS Speed (km/hr)')\n",
    "gpsSpeedHist.set_ylabel('Number of Occurrences')\n",
    "\n",
    "wheelSpeedHist = truckTwoDf[['WheelBasedVehicleSpeed']].plot.hist(stacked=True)\n",
    "wheelSpeedHist.set_xlabel('Wheel-Based Speed (km/hr)')\n",
    "wheelSpeedHist.set_ylabel('Number of Occurrences')\n",
    "\n",
    "gpsSpeedHist\n",
    "wheelSpeedHist"
   ]
  },
  {
   "cell_type": "code",
   "execution_count": 11,
   "metadata": {},
   "outputs": [
    {
     "data": {
      "text/plain": [
       "<matplotlib.axes._subplots.AxesSubplot at 0x287cb0b73c8>"
      ]
     },
     "execution_count": 11,
     "metadata": {},
     "output_type": "execute_result"
    },
    {
     "data": {
      "image/png": "[encoded data removed]",
      "text/plain": [
       "<Figure size 432x288 with 1 Axes>"
      ]
     },
     "metadata": {
      "needs_background": "light"
     },
     "output_type": "display_data"
    }
   ],
   "source": [
    "gpsSpeedBox = truckTwoDf[['GPS speed']].boxplot()\n",
    "gpsSpeedBox.set_xlabel('GPS Speed (km/hr)')\n",
    "gpsSpeedBox.set_ylabel('Number of Occurrences')\n",
    "\n",
    "gpsSpeedBox"
   ]
  },
  {
   "cell_type": "code",
   "execution_count": 12,
   "metadata": {},
   "outputs": [
    {
     "data": {
      "text/plain": [
       "<matplotlib.axes._subplots.AxesSubplot at 0x287cb129e88>"
      ]
     },
     "execution_count": 12,
     "metadata": {},
     "output_type": "execute_result"
    },
    {
     "data": {
      "image/png": "[encoded data removed]",
      "text/plain": [
       "<Figure size 432x288 with 1 Axes>"
      ]
     },
     "metadata": {
      "needs_background": "light"
     },
     "output_type": "display_data"
    }
   ],
   "source": [
    "wheelSpeedBox = truckTwoDf[['WheelBasedVehicleSpeed']].boxplot()\n",
    "wheelSpeedBox.set_xlabel('Wheel-Based Speed (km/hr)')\n",
    "wheelSpeedBox.set_ylabel('Number of Occurrences')\n",
    "\n",
    "wheelSpeedBox"
   ]
  },
  {
   "cell_type": "markdown",
   "metadata": {},
   "source": [
    "It's clear that both of these components have a similar trend; there is definitely a skewness to them. However, upon further inspection, the GPS Speed has a different scale on its x-axis. These are both supposed to be measured in km/hr.\n",
    "\n",
    "It's possible that:\n",
    "- The provided units for GPS Speed were incorrect.\n",
    "- The GPS Speed unit is configured to a different unit of measurement (accidental or intentional).\n",
    "  - Note: we have not yet found a conversion that matches the readings.\n",
    "- The GPS Speed unit was incorrectly set up.\n",
    "\n",
    "We can also see that there is a significant amount of readings near zero. We hypothesize that these values are from moments of inactivity, such as stopping at a light or leaving the truck on without moving. Outlier detection is currently being developed and will hopefully snuff these values out."
   ]
  },
  {
   "cell_type": "code",
   "execution_count": null,
   "metadata": {},
   "outputs": [],
   "source": []
  },
  {
   "cell_type": "markdown",
   "metadata": {},
   "source": [
    "Dropping UTC columns."
   ]
  },
  {
   "cell_type": "code",
   "execution_count": null,
   "metadata": {},
   "outputs": [],
   "source": [
    "truckTwoDf = cullUtcCols(truckTwoDf)\n",
    "#truckTwoDf.head()"
   ]
  },
  {
   "cell_type": "markdown",
   "metadata": {},
   "source": [
    "Renaming the columns for better readability."
   ]
  },
  {
   "cell_type": "code",
   "execution_count": null,
   "metadata": {
    "scrolled": true
   },
   "outputs": [],
   "source": [
    "# Create a Python dictionary out of the CSV dictionary.\n",
    "truckTwoDict = createPythonDictionary(truckTwoDictPath)\n",
    "\n",
    "truckTwoDf = removeUnnecessaryRows(truckTwoDf)\n",
    "truckTwoDf = renameColumns(truckTwoDf, truckTwoDict)\n",
    "truckTwoDf = removeUnnecessaryColumns(truckTwoDf)\n",
    "\n",
    "truckTwoDf = renameColumns(truckTwoDf, truckTwoDict)\n",
    "truckTwoDf.head()"
   ]
  },
  {
   "cell_type": "markdown",
   "metadata": {},
   "source": [
    "##### GPS Speed vs. Wheel-Based Speed\n",
    "Selecting the GPS Speed and Wheel-Based Speed columns and using the divideByDay function to display the average speeds per day."
   ]
  },
  {
   "cell_type": "code",
   "execution_count": null,
   "metadata": {
    "scrolled": true
   },
   "outputs": [],
   "source": [
    "columns = ['Speed (km/hr)', 'Vehicle Speed (Wheel-Based; km/hr)']\n",
    "y = truckTwoDf[columns]\n",
    "x = truckTwoDf['Time (DateTime)']\n",
    "test.plot()"
   ]
  },
  {
   "cell_type": "code",
   "execution_count": null,
   "metadata": {
    "scrolled": false
   },
   "outputs": [],
   "source": [
    "columns = ['Speed (km/hr)', 'Vehicle Speed (Wheel-Based; km/hr)']\n",
    "speedsByDay = divideByDay(truckTwoDf, columns)\n",
    "speedsByDay"
   ]
  },
  {
   "cell_type": "code",
   "execution_count": null,
   "metadata": {},
   "outputs": [],
   "source": [
    "speedsByDay.plot()"
   ]
  },
  {
   "cell_type": "code",
   "execution_count": null,
   "metadata": {},
   "outputs": [],
   "source": [
    "speedsByDay['Difference in Speeds (km/hr)'] = (speedsByDay['Speed (km/hr)'] - speedsByDay['Vehicle Speed (Wheel-Based; km/hr)']).abs()\n",
    "speedsByDay"
   ]
  },
  {
   "cell_type": "code",
   "execution_count": null,
   "metadata": {
    "scrolled": true
   },
   "outputs": [],
   "source": [
    "speedsByDay.plot()"
   ]
  }
 ],
 "metadata": {
  "kernelspec": {
   "display_name": "Python 3",
   "language": "python",
   "name": "python3"
  },
  "language_info": {
   "codemirror_mode": {
    "name": "ipython",
    "version": 3
   },
   "file_extension": ".py",
   "mimetype": "text/x-python",
   "name": "python",
   "nbconvert_exporter": "python",
   "pygments_lexer": "ipython3",
   "version": "3.7.5"
  }
 },
 "nbformat": 4,
 "nbformat_minor": 2
}
