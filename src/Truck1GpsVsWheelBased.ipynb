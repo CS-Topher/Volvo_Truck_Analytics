{
 "cells": [
  {
   "cell_type": "markdown",
   "metadata": {},
   "source": [
    "# Truck 1: GPS Speed vs. Wheel-Based Speed"
   ]
  },
  {
   "cell_type": "markdown",
   "metadata": {},
   "source": [
    "#### Imports and global variables are defined here."
   ]
  },
  {
   "cell_type": "code",
   "execution_count": 9,
   "metadata": {},
   "outputs": [],
   "source": [
    "# Imports required for this notebook.\n",
    "import csv\n",
    "import matplotlib.pyplot as plt\n",
    "import numpy as np\n",
    "import pandas as pd\n",
    "import scipy\n",
    "\n",
    "# Local path to the CSV file containing the data for truck two (2).\n",
    "truckOnePath = \"../data/trucks/truck1.csv\""
   ]
  },
  {
   "cell_type": "markdown",
   "metadata": {},
   "source": [
    "#### Functions are defined here."
   ]
  },
  {
   "cell_type": "code",
   "execution_count": 2,
   "metadata": {},
   "outputs": [],
   "source": [
    "\"\"\"Uses Pandas's read_csv method to read a CSV file and returns a DataFrame of it to the notebook.\n",
    "This function reads in all rows and defines the header row at index 0 by default.\"\"\"\n",
    "def readCsv(truck, records = None, headerIdx = 0):\n",
    "    return pd.read_csv(truck, nrows = records, header = [headerIdx])"
   ]
  },
  {
   "cell_type": "markdown",
   "metadata": {},
   "source": [
    "##### GPS Speed vs. Wheel-Based Speed"
   ]
  },
  {
   "cell_type": "markdown",
   "metadata": {},
   "source": [
    "Reading in the truck data; one can change how many records are read by using \"records = <#>\" in the readCsv function or remove it entirely to read all records."
   ]
  },
  {
   "cell_type": "code",
   "execution_count": 3,
   "metadata": {},
   "outputs": [
    {
     "data": {
      "text/html": [
       "<div>\n",
       "<style scoped>\n",
       "    .dataframe tbody tr th:only-of-type {\n",
       "        vertical-align: middle;\n",
       "    }\n",
       "\n",
       "    .dataframe tbody tr th {\n",
       "        vertical-align: top;\n",
       "    }\n",
       "\n",
       "    .dataframe thead th {\n",
       "        text-align: right;\n",
       "    }\n",
       "</style>\n",
       "<table border=\"1\" class=\"dataframe\">\n",
       "  <thead>\n",
       "    <tr style=\"text-align: right;\">\n",
       "      <th></th>\n",
       "      <th>Time</th>\n",
       "      <th>1730_CH9_ AutomaticStartStop</th>\n",
       "      <th>1730_CH10_Truck_Batteries</th>\n",
       "      <th>4649_Ch1_Alternator_250A</th>\n",
       "      <th>4649_Ch2_BattOut_100A</th>\n",
       "      <th>4649_Ch3_Trailer_50A</th>\n",
       "      <th>4649_Ch4_Inverter_100A</th>\n",
       "      <th>4649_Ch5_Fridge_50A</th>\n",
       "      <th>4649_Ch6_200A_APU_BatteryBank</th>\n",
       "      <th>4649_Ch7_200A_BatterySeparator</th>\n",
       "      <th>...</th>\n",
       "      <th>WheelBasedVehicleSpeed</th>\n",
       "      <th>CPU load</th>\n",
       "      <th>UTC hour</th>\n",
       "      <th>UTC minute</th>\n",
       "      <th>UTC second</th>\n",
       "      <th>UTC month</th>\n",
       "      <th>UTC day</th>\n",
       "      <th>UTC year</th>\n",
       "      <th>GPS altitude</th>\n",
       "      <th>GPS speed</th>\n",
       "    </tr>\n",
       "  </thead>\n",
       "  <tbody>\n",
       "    <tr>\n",
       "      <th>0</th>\n",
       "      <td>08/07/2019 07:54:02.959</td>\n",
       "      <td>NaN</td>\n",
       "      <td>NaN</td>\n",
       "      <td>NaN</td>\n",
       "      <td>NaN</td>\n",
       "      <td>NaN</td>\n",
       "      <td>NaN</td>\n",
       "      <td>NaN</td>\n",
       "      <td>NaN</td>\n",
       "      <td>NaN</td>\n",
       "      <td>...</td>\n",
       "      <td>7.968750</td>\n",
       "      <td>40.0</td>\n",
       "      <td>11.0</td>\n",
       "      <td>54.0</td>\n",
       "      <td>3.0</td>\n",
       "      <td>8.0</td>\n",
       "      <td>7.0</td>\n",
       "      <td>19.0</td>\n",
       "      <td>0.0</td>\n",
       "      <td>NaN</td>\n",
       "    </tr>\n",
       "    <tr>\n",
       "      <th>1</th>\n",
       "      <td>08/07/2019 07:54:03.059</td>\n",
       "      <td>NaN</td>\n",
       "      <td>NaN</td>\n",
       "      <td>NaN</td>\n",
       "      <td>NaN</td>\n",
       "      <td>NaN</td>\n",
       "      <td>NaN</td>\n",
       "      <td>NaN</td>\n",
       "      <td>NaN</td>\n",
       "      <td>NaN</td>\n",
       "      <td>...</td>\n",
       "      <td>8.042969</td>\n",
       "      <td>40.0</td>\n",
       "      <td>11.0</td>\n",
       "      <td>54.0</td>\n",
       "      <td>3.0</td>\n",
       "      <td>8.0</td>\n",
       "      <td>7.0</td>\n",
       "      <td>19.0</td>\n",
       "      <td>0.0</td>\n",
       "      <td>NaN</td>\n",
       "    </tr>\n",
       "    <tr>\n",
       "      <th>2</th>\n",
       "      <td>08/07/2019 07:54:03.159</td>\n",
       "      <td>NaN</td>\n",
       "      <td>NaN</td>\n",
       "      <td>NaN</td>\n",
       "      <td>NaN</td>\n",
       "      <td>NaN</td>\n",
       "      <td>NaN</td>\n",
       "      <td>NaN</td>\n",
       "      <td>NaN</td>\n",
       "      <td>NaN</td>\n",
       "      <td>...</td>\n",
       "      <td>8.042969</td>\n",
       "      <td>40.0</td>\n",
       "      <td>11.0</td>\n",
       "      <td>54.0</td>\n",
       "      <td>3.0</td>\n",
       "      <td>8.0</td>\n",
       "      <td>7.0</td>\n",
       "      <td>19.0</td>\n",
       "      <td>0.0</td>\n",
       "      <td>NaN</td>\n",
       "    </tr>\n",
       "    <tr>\n",
       "      <th>3</th>\n",
       "      <td>08/07/2019 07:54:03.259</td>\n",
       "      <td>NaN</td>\n",
       "      <td>NaN</td>\n",
       "      <td>NaN</td>\n",
       "      <td>NaN</td>\n",
       "      <td>NaN</td>\n",
       "      <td>NaN</td>\n",
       "      <td>NaN</td>\n",
       "      <td>NaN</td>\n",
       "      <td>NaN</td>\n",
       "      <td>...</td>\n",
       "      <td>8.105469</td>\n",
       "      <td>40.0</td>\n",
       "      <td>11.0</td>\n",
       "      <td>54.0</td>\n",
       "      <td>3.0</td>\n",
       "      <td>8.0</td>\n",
       "      <td>7.0</td>\n",
       "      <td>19.0</td>\n",
       "      <td>0.0</td>\n",
       "      <td>NaN</td>\n",
       "    </tr>\n",
       "    <tr>\n",
       "      <th>4</th>\n",
       "      <td>08/07/2019 07:54:03.359</td>\n",
       "      <td>NaN</td>\n",
       "      <td>NaN</td>\n",
       "      <td>NaN</td>\n",
       "      <td>NaN</td>\n",
       "      <td>NaN</td>\n",
       "      <td>NaN</td>\n",
       "      <td>NaN</td>\n",
       "      <td>NaN</td>\n",
       "      <td>NaN</td>\n",
       "      <td>...</td>\n",
       "      <td>8.105469</td>\n",
       "      <td>40.0</td>\n",
       "      <td>11.0</td>\n",
       "      <td>54.0</td>\n",
       "      <td>3.0</td>\n",
       "      <td>8.0</td>\n",
       "      <td>7.0</td>\n",
       "      <td>19.0</td>\n",
       "      <td>0.0</td>\n",
       "      <td>NaN</td>\n",
       "    </tr>\n",
       "  </tbody>\n",
       "</table>\n",
       "<p>5 rows × 51 columns</p>\n",
       "</div>"
      ],
      "text/plain": [
       "                      Time  1730_CH9_ AutomaticStartStop  \\\n",
       "0  08/07/2019 07:54:02.959                           NaN   \n",
       "1  08/07/2019 07:54:03.059                           NaN   \n",
       "2  08/07/2019 07:54:03.159                           NaN   \n",
       "3  08/07/2019 07:54:03.259                           NaN   \n",
       "4  08/07/2019 07:54:03.359                           NaN   \n",
       "\n",
       "   1730_CH10_Truck_Batteries  4649_Ch1_Alternator_250A  4649_Ch2_BattOut_100A  \\\n",
       "0                        NaN                       NaN                    NaN   \n",
       "1                        NaN                       NaN                    NaN   \n",
       "2                        NaN                       NaN                    NaN   \n",
       "3                        NaN                       NaN                    NaN   \n",
       "4                        NaN                       NaN                    NaN   \n",
       "\n",
       "   4649_Ch3_Trailer_50A  4649_Ch4_Inverter_100A  4649_Ch5_Fridge_50A  \\\n",
       "0                   NaN                     NaN                  NaN   \n",
       "1                   NaN                     NaN                  NaN   \n",
       "2                   NaN                     NaN                  NaN   \n",
       "3                   NaN                     NaN                  NaN   \n",
       "4                   NaN                     NaN                  NaN   \n",
       "\n",
       "   4649_Ch6_200A_APU_BatteryBank  4649_Ch7_200A_BatterySeparator    ...      \\\n",
       "0                            NaN                             NaN    ...       \n",
       "1                            NaN                             NaN    ...       \n",
       "2                            NaN                             NaN    ...       \n",
       "3                            NaN                             NaN    ...       \n",
       "4                            NaN                             NaN    ...       \n",
       "\n",
       "   WheelBasedVehicleSpeed  CPU load  UTC hour  UTC minute  UTC second  \\\n",
       "0                7.968750      40.0      11.0        54.0         3.0   \n",
       "1                8.042969      40.0      11.0        54.0         3.0   \n",
       "2                8.042969      40.0      11.0        54.0         3.0   \n",
       "3                8.105469      40.0      11.0        54.0         3.0   \n",
       "4                8.105469      40.0      11.0        54.0         3.0   \n",
       "\n",
       "   UTC month  UTC day  UTC year  GPS altitude  GPS speed  \n",
       "0        8.0      7.0      19.0           0.0        NaN  \n",
       "1        8.0      7.0      19.0           0.0        NaN  \n",
       "2        8.0      7.0      19.0           0.0        NaN  \n",
       "3        8.0      7.0      19.0           0.0        NaN  \n",
       "4        8.0      7.0      19.0           0.0        NaN  \n",
       "\n",
       "[5 rows x 51 columns]"
      ]
     },
     "execution_count": 3,
     "metadata": {},
     "output_type": "execute_result"
    }
   ],
   "source": [
    "truckOneDf = readCsv(truckOnePath)\n",
    "truckOneDf.head()"
   ]
  },
  {
   "cell_type": "code",
   "execution_count": 4,
   "metadata": {
    "scrolled": false
   },
   "outputs": [
    {
     "data": {
      "text/plain": [
       "<matplotlib.axes._subplots.AxesSubplot at 0x24519dbdb88>"
      ]
     },
     "execution_count": 4,
     "metadata": {},
     "output_type": "execute_result"
    },
    {
     "data": {
      "image/png": "[encoded data removed]",
      "text/plain": [
       "<Figure size 432x288 with 1 Axes>"
      ]
     },
     "metadata": {
      "needs_background": "light"
     },
     "output_type": "display_data"
    },
    {
     "data": {
      "image/png": "[encoded data removed]",
      "text/plain": [
       "<Figure size 432x288 with 1 Axes>"
      ]
     },
     "metadata": {
      "needs_background": "light"
     },
     "output_type": "display_data"
    }
   ],
   "source": [
    "columns = ['GPS speed', 'WheelBasedVehicleSpeed']\n",
    "gpsSpeedHist = truckOneDf[['GPS speed']].plot.hist(stacked=True)\n",
    "gpsSpeedHist.set_xlabel('GPS Speed (km/hr)')\n",
    "gpsSpeedHist.set_ylabel('Number of Occurrences')\n",
    "\n",
    "wheelSpeedHist = truckOneDf[['WheelBasedVehicleSpeed']].plot.hist(stacked=True)\n",
    "wheelSpeedHist.set_xlabel('Wheel-Based Speed (km/hr)')\n",
    "wheelSpeedHist.set_ylabel('Number of Occurrences')\n",
    "\n",
    "gpsSpeedHist\n",
    "wheelSpeedHist"
   ]
  },
  {
   "cell_type": "code",
   "execution_count": 5,
   "metadata": {},
   "outputs": [
    {
     "data": {
      "text/plain": [
       "<matplotlib.axes._subplots.AxesSubplot at 0x24519e542c8>"
      ]
     },
     "execution_count": 5,
     "metadata": {},
     "output_type": "execute_result"
    },
    {
     "data": {
      "image/png": "[encoded data removed]",
      "text/plain": [
       "<Figure size 432x288 with 1 Axes>"
      ]
     },
     "metadata": {
      "needs_background": "light"
     },
     "output_type": "display_data"
    }
   ],
   "source": [
    "gpsSpeedBox = truckOneDf[['GPS speed']].boxplot()\n",
    "gpsSpeedBox.set_xlabel('GPS Speed (km/hr)')\n",
    "gpsSpeedBox.set_ylabel('Number of Occurrences')\n",
    "\n",
    "gpsSpeedBox"
   ]
  },
  {
   "cell_type": "code",
   "execution_count": 6,
   "metadata": {},
   "outputs": [
    {
     "data": {
      "text/plain": [
       "<matplotlib.axes._subplots.AxesSubplot at 0x24519ecde48>"
      ]
     },
     "execution_count": 6,
     "metadata": {},
     "output_type": "execute_result"
    },
    {
     "data": {
      "image/png": "[encoded data removed]",
      "text/plain": [
       "<Figure size 432x288 with 1 Axes>"
      ]
     },
     "metadata": {
      "needs_background": "light"
     },
     "output_type": "display_data"
    }
   ],
   "source": [
    "wheelSpeedBox = truckOneDf[['WheelBasedVehicleSpeed']].boxplot()\n",
    "wheelSpeedBox.set_xlabel('Wheel-Based Speed (km/hr)')\n",
    "wheelSpeedBox.set_ylabel('Number of Occurrences')\n",
    "\n",
    "wheelSpeedBox"
   ]
  },
  {
   "cell_type": "markdown",
   "metadata": {},
   "source": [
    "It's clear that both of these components have a similar trend; there is definitely a skewness to them. However, upon further inspection, the GPS Speed has a different scale on its x-axis. These are both supposed to be measured in km/hr.\n",
    "\n",
    "It's possible that:\n",
    "- The provided units for GPS Speed were incorrect.\n",
    "- The GPS Speed unit is configured to a different unit of measurement (accidental or intentional).\n",
    "  - Note: we have not yet found a conversion that matches the readings.\n",
    "- The GPS Speed unit was incorrectly set up.\n",
    "\n",
    "We can also see that there is a significant amount of readings near zero. We hypothesize that these values are from moments of inactivity, such as stopping at a light or leaving the truck on without moving. Outlier detection is currently being developed and will hopefully snuff these values out."
   ]
  },
  {
   "cell_type": "code",
   "execution_count": 7,
   "metadata": {},
   "outputs": [
    {
     "data": {
      "text/plain": [
       "<matplotlib.axes._subplots.AxesSubplot at 0x2451a104588>"
      ]
     },
     "execution_count": 7,
     "metadata": {},
     "output_type": "execute_result"
    },
    {
     "data": {
      "image/png": "[encoded data removed]",
      "text/plain": [
       "<Figure size 432x288 with 1 Axes>"
      ]
     },
     "metadata": {
      "needs_background": "light"
     },
     "output_type": "display_data"
    }
   ],
   "source": [
    "gpsSpeedDist = truckOneDf[['GPS speed']].plot.kde()\n",
    "gpsSpeedDist.set_xlabel('GPS Speed (km/hr)')\n",
    "gpsSpeedDist.set_ylabel('Number of Occurrences')\n",
    "\n",
    "gpsSpeedDist"
   ]
  },
  {
   "cell_type": "code",
   "execution_count": 8,
   "metadata": {
    "scrolled": true
   },
   "outputs": [
    {
     "data": {
      "text/plain": [
       "<matplotlib.axes._subplots.AxesSubplot at 0x2451a0f3d08>"
      ]
     },
     "execution_count": 8,
     "metadata": {},
     "output_type": "execute_result"
    },
    {
     "data": {
      "image/png": "[encoded data removed]",
      "text/plain": [
       "<Figure size 432x288 with 1 Axes>"
      ]
     },
     "metadata": {
      "needs_background": "light"
     },
     "output_type": "display_data"
    }
   ],
   "source": [
    "wheelSpeedDist = truckOneDf[['WheelBasedVehicleSpeed']].plot.kde()\n",
    "wheelSpeedDist.set_xlabel('WheelBasedVehicleSpeed (km/hr)')\n",
    "wheelSpeedDist.set_ylabel('Number of Occurrences')\n",
    "\n",
    "wheelSpeedDist"
   ]
  },
  {
   "cell_type": "markdown",
   "metadata": {},
   "source": [
    "At this point, since we haven't removed outliers or the movements of zero (stopped), there are two peaks which means that the raw data is bimodal. This would typically indicate that there are two groups within the data set; this data could technically have two groups: a stopped state and a moving state, where stopped represents all of the points near zero and the moving state represents all of the points near the right peak."
   ]
  }
 ],
 "metadata": {
  "kernelspec": {
   "display_name": "Python 3",
   "language": "python",
   "name": "python3"
  },
  "language_info": {
   "codemirror_mode": {
    "name": "ipython",
    "version": 3
   },
   "file_extension": ".py",
   "mimetype": "text/x-python",
   "name": "python",
   "nbconvert_exporter": "python",
   "pygments_lexer": "ipython3",
   "version": "3.7.5"
  }
 },
 "nbformat": 4,
 "nbformat_minor": 2
}
