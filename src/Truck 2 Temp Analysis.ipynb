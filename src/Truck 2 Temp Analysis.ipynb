{
 "cells": [
  {
   "cell_type": "code",
   "execution_count": 1,
   "metadata": {},
   "outputs": [],
   "source": [
    "import os\n",
    "import numpy as np\n",
    "import pandas as pd\n",
    "import csv\n",
    "import matplotlib.pyplot as plt\n",
    "\n",
    "truckTwoPath = \"../data/trucks/truck2.csv\"\n",
    "\n",
    "truckTwoDictPath = \"../data/dictionary/truck2_data_dictionary.csv\""
   ]
  },
  {
   "cell_type": "code",
   "execution_count": 2,
   "metadata": {},
   "outputs": [],
   "source": [
    "def get_truck_data():\n",
    "    trucks2 = pd.read_csv(os.path.join('../data/trucks/truck2.csv'),\n",
    "               sep=',',engine='python')\n",
    "    \n",
    "    return trucks2"
   ]
  },
  {
   "cell_type": "code",
   "execution_count": 3,
   "metadata": {},
   "outputs": [],
   "source": [
    "trucks2 = get_truck_data()\n"
   ]
  },
  {
   "cell_type": "code",
   "execution_count": 4,
   "metadata": {},
   "outputs": [],
   "source": [
    "def readCsv(truck):\n",
    "    return pd.read_csv(truck, header = [0])\n",
    "    \n",
    "def cullUtcCols(truckData):\n",
    "    noUTC = truckData.drop([\"UTC hour\", \"UTC minute\", \"UTC second\", \"UTC month\", \"UTC day\", \"UTC year\"], axis = 1)\n",
    "    return noUTC\n",
    "\n",
    "\"\"\"Takes a DataFrame and a conversion dictionary as parameters;\n",
    "    uses the dictionary to rename all matching columns then returns the changed DataFrame.\"\"\"\n",
    "def renameColumns(dataFrame, dictionary):\n",
    "    return dataFrame.rename(columns = dictionary)\n",
    "\n",
    "\"\"\"Finds threshold of Non-NA type using percentage and deletes rows.\"\"\"\n",
    "\n",
    "#If the number of values that are NOT Na type pass this percentage, the row will be deleted\n",
    "rowNaNThresholdPercent = 75\n",
    "def removeUnnecessaryRows(dataFrame):\n",
    "    length = len(dataFrame.columns)\n",
    "    TValue = (rowNaNThresholdPercent / 100) * length\n",
    "    print(\"Threshold value: \" + str(int(TValue)))\n",
    "    return dataFrame.dropna(thresh = int(TValue))\n",
    "\n",
    "\"\"\"Finds columns with all Na types and deletes them.\"\"\"\n",
    "def removeUnnecessaryColumns(dataFrame):\n",
    "    return dataFrame.dropna(axis=1, how='all')\n",
    "\n",
    "# NOTE: The following function is unused in this notebook, but it can be used to convert CSV files into\n",
    "# conversion dictionaries i.e. creating the column rename dictionaries, which was manually done in the\n",
    "# previous block manually.\n",
    "\n",
    "\"\"\"Creates a Python dictionary from a pre-defined CSV dictionary.\n",
    "This will only look at the first two columns of the given CSV file.\"\"\"\n",
    "def createPythonDictionary(dictionaryCSV):\n",
    "    # Initialize the resulting dictionary.\n",
    "    dictResult = {}\n",
    "    \n",
    "    # Opens the passed in CSV which defines the rename dictionary and iterates through it to store each value into a Python dictionary.\n",
    "    with open(dictionaryCSV, 'r') as f:\n",
    "        for row in csv.reader(f):\n",
    "            dictResult.update({row[0]:row[1]})\n",
    "    return dictResult\n",
    "\n"
   ]
  },
  {
   "cell_type": "code",
   "execution_count": 5,
   "metadata": {},
   "outputs": [],
   "source": [
    "trucks2 = removeUnnecessaryColumns(trucks2)"
   ]
  },
  {
   "cell_type": "code",
   "execution_count": 6,
   "metadata": {},
   "outputs": [
    {
     "name": "stdout",
     "output_type": "stream",
     "text": [
      "Threshold value: 32\n"
     ]
    }
   ],
   "source": [
    "trucks2 = removeUnnecessaryRows(trucks2)"
   ]
  },
  {
   "cell_type": "code",
   "execution_count": 7,
   "metadata": {},
   "outputs": [
    {
     "data": {
      "text/plain": [
       "0          16.93750\n",
       "1          16.93750\n",
       "2          16.93750\n",
       "3          16.93750\n",
       "4          16.93750\n",
       "5          16.93750\n",
       "6          16.93750\n",
       "7          16.93750\n",
       "8          16.93750\n",
       "9          16.93750\n",
       "10         16.93750\n",
       "11         16.93750\n",
       "12         16.93750\n",
       "13         16.93750\n",
       "14         16.93750\n",
       "15         16.93750\n",
       "16         16.93750\n",
       "17         16.93750\n",
       "18         16.93750\n",
       "19         16.93750\n",
       "20         16.93750\n",
       "21         16.93750\n",
       "22         16.93750\n",
       "23         16.93750\n",
       "24         16.93750\n",
       "25         16.93750\n",
       "26         16.93750\n",
       "27         16.93750\n",
       "28         16.93750\n",
       "29         16.93750\n",
       "             ...   \n",
       "1686293    13.40625\n",
       "1686294    13.34375\n",
       "1686295    13.34375\n",
       "1686296    13.34375\n",
       "1686297    13.34375\n",
       "1686298    13.34375\n",
       "1686299    13.34375\n",
       "1686300    13.34375\n",
       "1686301    13.34375\n",
       "1686302    13.34375\n",
       "1686303    13.34375\n",
       "1686304    13.34375\n",
       "1686305    13.34375\n",
       "1686306    13.34375\n",
       "1686307    13.34375\n",
       "1686308    13.34375\n",
       "1686309    13.34375\n",
       "1686310    13.34375\n",
       "1686311    13.34375\n",
       "1686312    13.34375\n",
       "1686313    13.34375\n",
       "1686314    13.34375\n",
       "1686315    13.34375\n",
       "1686316    13.34375\n",
       "1686317    13.34375\n",
       "1686318    13.34375\n",
       "1686319    13.34375\n",
       "1686320    13.34375\n",
       "1686321    13.34375\n",
       "1686322    13.34375\n",
       "Name: AmbientAirTemperature_V, Length: 1686256, dtype: float64"
      ]
     },
     "execution_count": 7,
     "metadata": {},
     "output_type": "execute_result"
    }
   ],
   "source": [
    "trucks2.loc[:, 'AmbientAirTemperature_V']"
   ]
  },
  {
   "cell_type": "code",
   "execution_count": 8,
   "metadata": {},
   "outputs": [
    {
     "data": {
      "text/plain": [
       "11.41745914163482"
      ]
     },
     "execution_count": 8,
     "metadata": {},
     "output_type": "execute_result"
    }
   ],
   "source": [
    "trucks2['AmbientAirTemperature_V'].mean()"
   ]
  },
  {
   "cell_type": "code",
   "execution_count": 9,
   "metadata": {},
   "outputs": [
    {
     "data": {
      "text/plain": [
       "array([[<matplotlib.axes._subplots.AxesSubplot object at 0x000000013515FD30>]],\n",
       "      dtype=object)"
      ]
     },
     "execution_count": 9,
     "metadata": {},
     "output_type": "execute_result"
    },
    {
     "data": {
      "image/png": "[encoded data removed]",
      "text/plain": [
       "<Figure size 432x288 with 1 Axes>"
      ]
     },
     "metadata": {
      "needs_background": "light"
     },
     "output_type": "display_data"
    }
   ],
   "source": [
    "trucks2.hist(column=\"AmbientAirTemperature_V\", bins=100)"
   ]
  },
  {
   "cell_type": "code",
   "execution_count": 10,
   "metadata": {},
   "outputs": [
    {
     "data": {
      "text/plain": [
       "array([[<matplotlib.axes._subplots.AxesSubplot object at 0x0000000132DC57F0>]],\n",
       "      dtype=object)"
      ]
     },
     "execution_count": 10,
     "metadata": {},
     "output_type": "execute_result"
    },
    {
     "data": {
      "image/png": "[encoded data removed]",
      "text/plain": [
       "<Figure size 432x288 with 1 Axes>"
      ]
     },
     "metadata": {
      "needs_background": "light"
     },
     "output_type": "display_data"
    }
   ],
   "source": [
    "trucks2.hist(column=\"EngineAirIntakeTemp_BB1_X_E\", bins=25)"
   ]
  },
  {
   "cell_type": "code",
   "execution_count": 11,
   "metadata": {},
   "outputs": [
    {
     "data": {
      "text/plain": [
       "array([[<matplotlib.axes._subplots.AxesSubplot object at 0x0000000132BC4550>]],\n",
       "      dtype=object)"
      ]
     },
     "execution_count": 11,
     "metadata": {},
     "output_type": "execute_result"
    },
    {
     "data": {
      "image/png": "[encoded data removed]",
      "text/plain": [
       "<Figure size 432x288 with 1 Axes>"
      ]
     },
     "metadata": {
      "needs_background": "light"
     },
     "output_type": "display_data"
    }
   ],
   "source": [
    "trucks2.hist(column='EngineCoolantTemp_stat', bins=25)"
   ]
  },
  {
   "cell_type": "code",
   "execution_count": 12,
   "metadata": {},
   "outputs": [
    {
     "data": {
      "text/plain": [
       "array([[<matplotlib.axes._subplots.AxesSubplot object at 0x00000001329F9550>]],\n",
       "      dtype=object)"
      ]
     },
     "execution_count": 12,
     "metadata": {},
     "output_type": "execute_result"
    },
    {
     "data": {
      "image/png": "[encoded data removed]",
      "text/plain": [
       "<Figure size 432x288 with 1 Axes>"
      ]
     },
     "metadata": {
      "needs_background": "light"
     },
     "output_type": "display_data"
    }
   ],
   "source": [
    "trucks2.hist(column='EngineOilTemperature', bins=100)"
   ]
  },
  {
   "cell_type": "code",
   "execution_count": 13,
   "metadata": {},
   "outputs": [
    {
     "data": {
      "text/plain": [
       "array([[<matplotlib.axes._subplots.AxesSubplot object at 0x000000011F094978>]],\n",
       "      dtype=object)"
      ]
     },
     "execution_count": 13,
     "metadata": {},
     "output_type": "execute_result"
    },
    {
     "data": {
      "image/png": "[encoded data removed]",
      "text/plain": [
       "<Figure size 432x288 with 1 Axes>"
      ]
     },
     "metadata": {
      "needs_background": "light"
     },
     "output_type": "display_data"
    }
   ],
   "source": [
    "trucks2.hist(column='EngExhaustGasTemp', bins=50)"
   ]
  },
  {
   "cell_type": "code",
   "execution_count": 14,
   "metadata": {},
   "outputs": [
    {
     "data": {
      "text/plain": [
       "array([[<matplotlib.axes._subplots.AxesSubplot object at 0x000000011B424B70>]],\n",
       "      dtype=object)"
      ]
     },
     "execution_count": 14,
     "metadata": {},
     "output_type": "execute_result"
    },
    {
     "data": {
      "image/png": "[encoded data removed]",
      "text/plain": [
       "<Figure size 432x288 with 1 Axes>"
      ]
     },
     "metadata": {
      "needs_background": "light"
     },
     "output_type": "display_data"
    }
   ],
   "source": [
    "trucks2.hist(column='EngIntakeManifold1Temp', bins=50)"
   ]
  },
  {
   "cell_type": "code",
   "execution_count": 15,
   "metadata": {},
   "outputs": [
    {
     "data": {
      "text/plain": [
       "array([[<matplotlib.axes._subplots.AxesSubplot object at 0x000000011ABE2EB8>]],\n",
       "      dtype=object)"
      ]
     },
     "execution_count": 15,
     "metadata": {},
     "output_type": "execute_result"
    },
    {
     "data": {
      "image/png": "[encoded data removed]",
      "text/plain": [
       "<Figure size 432x288 with 1 Axes>"
      ]
     },
     "metadata": {
      "needs_background": "light"
     },
     "output_type": "display_data"
    }
   ],
   "source": [
    "trucks2.hist(column='TransmissionOilTemp', bins=100)"
   ]
  },
  {
   "cell_type": "code",
   "execution_count": 16,
   "metadata": {},
   "outputs": [
    {
     "data": {
      "text/plain": [
       "array([[<matplotlib.axes._subplots.AxesSubplot object at 0x0000000116CD71D0>]],\n",
       "      dtype=object)"
      ]
     },
     "execution_count": 16,
     "metadata": {},
     "output_type": "execute_result"
    },
    {
     "data": {
      "image/png": "[encoded data removed]",
      "text/plain": [
       "<Figure size 432x288 with 1 Axes>"
      ]
     },
     "metadata": {
      "needs_background": "light"
     },
     "output_type": "display_data"
    }
   ],
   "source": [
    "trucks2.hist(column='asu_UreaTankTemp', bins=100)"
   ]
  },
  {
   "cell_type": "code",
   "execution_count": 17,
   "metadata": {},
   "outputs": [
    {
     "data": {
      "text/plain": [
       "0           NaN\n",
       "1           NaN\n",
       "2           NaN\n",
       "3           NaN\n",
       "4           NaN\n",
       "5           NaN\n",
       "6           NaN\n",
       "7           NaN\n",
       "8           NaN\n",
       "9           NaN\n",
       "10          NaN\n",
       "11          NaN\n",
       "12          NaN\n",
       "13          NaN\n",
       "14          NaN\n",
       "15          NaN\n",
       "16          NaN\n",
       "17          NaN\n",
       "18          NaN\n",
       "19          NaN\n",
       "20          NaN\n",
       "21          NaN\n",
       "22          NaN\n",
       "23          NaN\n",
       "24          NaN\n",
       "25          NaN\n",
       "26          NaN\n",
       "27          NaN\n",
       "28          NaN\n",
       "29          NaN\n",
       "           ... \n",
       "1686293    19.0\n",
       "1686294    19.0\n",
       "1686295    19.0\n",
       "1686296    19.0\n",
       "1686297    19.0\n",
       "1686298    19.0\n",
       "1686299    19.0\n",
       "1686300    19.0\n",
       "1686301    19.0\n",
       "1686302    19.0\n",
       "1686303    19.0\n",
       "1686304    19.0\n",
       "1686305    19.0\n",
       "1686306    19.0\n",
       "1686307    19.0\n",
       "1686308    19.0\n",
       "1686309    19.0\n",
       "1686310    19.0\n",
       "1686311    19.0\n",
       "1686312    19.0\n",
       "1686313    19.0\n",
       "1686314    19.0\n",
       "1686315    19.0\n",
       "1686316    19.0\n",
       "1686317    19.0\n",
       "1686318    19.0\n",
       "1686319    19.0\n",
       "1686320    19.0\n",
       "1686321    19.0\n",
       "1686322    19.0\n",
       "Name: asu_UreaTankTemp, Length: 1686256, dtype: float64"
      ]
     },
     "execution_count": 17,
     "metadata": {},
     "output_type": "execute_result"
    }
   ],
   "source": [
    "trucks2.loc[:, 'asu_UreaTankTemp']"
   ]
  },
  {
   "cell_type": "code",
   "execution_count": null,
   "metadata": {},
   "outputs": [],
   "source": []
  }
 ],
 "metadata": {
  "kernelspec": {
   "display_name": "Python 3",
   "language": "python",
   "name": "python3"
  },
  "language_info": {
   "codemirror_mode": {
    "name": "ipython",
    "version": 3
   },
   "file_extension": ".py",
   "mimetype": "text/x-python",
   "name": "python",
   "nbconvert_exporter": "python",
   "pygments_lexer": "ipython3",
   "version": "3.7.3"
  }
 },
 "nbformat": 4,
 "nbformat_minor": 2
}
