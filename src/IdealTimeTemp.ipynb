{
 "cells": [
  {
   "cell_type": "code",
   "execution_count": 202,
   "metadata": {},
   "outputs": [],
   "source": [
    "import numpy as np\n",
    "import pandas as pd\n",
    "import matplotlib.pyplot as plt\n",
    "import csv\n",
    "from scipy.stats import kde\n",
    "import seaborn as sns\n",
    "import scipy.stats as stats\n",
    "from IPython.display import HTML, display\n",
    "from datetime import datetime"
   ]
  },
  {
   "cell_type": "code",
   "execution_count": 203,
   "metadata": {},
   "outputs": [],
   "source": [
    "#The two truck data set paths are set here.\n",
    "truck1csv = \"../data/trucks/truck1.csv\"\n",
    "truck2csv = \"../data/trucks/truck2.csv\"\n",
    "\n",
    "#The two column header dictonary paths are set here.\n",
    "truck1dictcsv = \"../data/dictionary/truck1dict.csv\"\n",
    "truck2dictcsv = \"../data/dictionary/truck2dict.csv\"\n",
    "\n",
    "#Number of records desired from the data set.\n",
    "numberOfRecords = 100\n",
    "\n",
    "#If the number of values that are NOT Na type pass this percentage, the row will be deleted\n",
    "rowNaNThresholdPercent = 75\n",
    "\n",
    "#Create column conversion dictionaries from CSV files.\n",
    "truck1dict={}\n",
    "truck2dict={}\n",
    "with open(truck1dictcsv, 'r') as f:\n",
    "    for row in csv.reader(f):\n",
    "        truck1dict.update({row[0]:row[1]})\n",
    "        \n",
    "with open(truck2dictcsv, 'r') as f:\n",
    "    for row in csv.reader(f):\n",
    "        truck2dict.update({row[0]:row[1]})\n",
    "        \n",
    "def readCsv(truck):\n",
    "    return pd.read_csv(truck, header = [0])\n",
    "    \n",
    "def cullUtcCols(truckData):\n",
    "    noUTC = truckData.drop([\"UTC hour\", \"UTC minute\", \"UTC second\", \"UTC month\", \"UTC day\", \"UTC year\"], axis = 1)\n",
    "    return noUTC\n",
    "\n",
    "\"\"\"Takes a DataFrame and a conversion dictionary as parameters;\n",
    "    uses the dictionary to rename all matching columns then returns the changed DataFrame.\"\"\"\n",
    "def renameColumns(dataFrame, dictionary):\n",
    "    return dataFrame.rename(columns = dictionary)\n",
    "\n",
    "\"\"\"Finds threshold of Non-NA type using percentage and deletes rows.\"\"\"\n",
    "def removeUnnecessaryRows(dataFrame):\n",
    "    length = len(dataFrame.columns)\n",
    "    TValue = (rowNaNThresholdPercent / 100) * length\n",
    "    print(\"Threshold value: \" + str(int(TValue)))\n",
    "    return dataFrame.dropna(thresh = int(TValue))\n",
    "\n",
    "\"\"\"Finds columns with all Na types and deletes them.\"\"\"\n",
    "def removeUnnecessaryColumns(dataFrame):\n",
    "    return dataFrame.dropna(axis=1, how='all')\n",
    "\n",
    "# NOTE: The following function is unused in this notebook, but it can be used to convert CSV files into\n",
    "# conversion dictionaries i.e. creating the column rename dictionaries, which was manually done in the\n",
    "# previous block manually.\n",
    "\n",
    "\"\"\"Creates a Python dictionary from a pre-defined CSV dictionary.\n",
    "This will only look at the first two columns of the given CSV file.\"\"\"\n",
    "def createPythonDictionary(dictionaryCSV):\n",
    "    # Initialize the resulting dictionary.\n",
    "    dictResult = {}\n",
    "    \n",
    "    # Opens the passed in CSV which defines the rename dictionary and iterates through it to store each value into a Python dictionary.\n",
    "    with open(dictionaryCSV, 'r') as f:\n",
    "        for row in csv.reader(f):\n",
    "            dictResult.update({row[0]:row[1]})\n",
    "    return dictResult\n",
    "\n",
    "\n",
    "#For the function divideByDay() make sure to pass in a DataFrame of a truck. \n",
    "#If you want specific column of data then just specify it by using quotation and the accurate name of the column. \n",
    "#Example: This line will get daily averages for all columns: print(divideByDay(truck1data) \n",
    "#This line will get daily average of speed: print(divideByDay(truck1data, \"Speed (km/hr)\"))\n",
    "\n",
    "def divideByDay(truck_df, byday_df=None):\n",
    "    dates = []\n",
    "    #truck_df = truck_df.head()\n",
    "    for index, tdata in truck_df.iterrows():\n",
    "        dates.append(tdata['Time (DateTime)'].split(' ')[0])\n",
    "        #print(index, dates)\n",
    "        \n",
    "    truck_df['Time (DateTime)'] = dates\n",
    "    \n",
    "    if(byday_df):\n",
    "        byday_df = truck_df.groupby('Time (DateTime)')[byday_df].mean()\n",
    "    else:\n",
    "        byday_df = truck_df.groupby('Time (DateTime)').mean()\n",
    "\n",
    "    return byday_df\n",
    "\n",
    "## Same use as divideByDay() but needs second parameter!! If no parameter given, error will be thrown.\n",
    "def outlierDetection(truck_df, column_attribute):\n",
    "    \n",
    "    iterateData = 0\n",
    "    fiveNum = [truck_df[column_attribute].quantile(0), truck_df[column_attribute].quantile(.25), truck_df[column_attribute].quantile(.5), truck_df[column_attribute].quantile(.75), truck_df[column_attribute].quantile(1)]\n",
    "    iqr = fiveNum[3] - fiveNum[1]\n",
    "    low_outl = fiveNum[1] - (1.5 * iqr)\n",
    "    high_outl = fiveNum[3] + (1.5 * iqr)\n",
    "    print(\"Before Outlier Deletion: \" + str(fiveNum))\n",
    "    print(\"Low bound: \" + str(low_outl))\n",
    "    print(\"High bound: \" + str(high_outl))\n",
    " \n",
    "    truck_df = truck_df[(truck_df[column_attribute] > low_outl)]\n",
    "    truck_df = truck_df[(truck_df[column_attribute] < high_outl)]\n",
    "    fiveNum = [truck_df[column_attribute].quantile(0), truck_df[column_attribute].quantile(.25), truck_df[column_attribute].quantile(.5), truck_df[column_attribute].quantile(.75), truck_df[column_attribute].quantile(1)]\n",
    "    #iqr = fiveNum[3] - fiveNum[1]\n",
    "    #low_outl = fiveNum[1] - (1.5 * iqr)\n",
    "    #high_outl = fiveNum[3] + (1.5 * iqr)\n",
    "    print(\"After Outlier Deletion: \" + str(fiveNum))\n",
    "\n",
    "    sns.boxplot(x=truck_df[column_attribute], showfliers=False)\n",
    "    \n",
    "    return truck_df\n"
   ]
  },
  {
   "cell_type": "code",
   "execution_count": 204,
   "metadata": {},
   "outputs": [
    {
     "name": "stdout",
     "output_type": "stream",
     "text": [
      "Threshold value: 33\n",
      "Threshold value: 30\n"
     ]
    }
   ],
   "source": [
    "truck1data = readCsv(truck1csv)\n",
    "truck1data = cullUtcCols(truck1data)\n",
    "truck1data = removeUnnecessaryRows(truck1data)\n",
    "truck1data = renameColumns(truck1data, truck1dict)\n",
    "truck1data = removeUnnecessaryColumns(truck1data)\n",
    "\n",
    "truck2data = readCsv(truck2csv)\n",
    "truck2data = cullUtcCols(truck2data)\n",
    "truck2data = removeUnnecessaryRows(truck2data)\n",
    "truck2data = renameColumns(truck2data, truck2dict)\n",
    "truck2data = removeUnnecessaryColumns(truck2data)"
   ]
  },
  {
   "cell_type": "code",
   "execution_count": 207,
   "metadata": {},
   "outputs": [],
   "source": [
    "outside_air_temp = divideByDay(truck1data, 'Outside Air Temperature (C)')"
   ]
  },
  {
   "cell_type": "code",
   "execution_count": 206,
   "metadata": {},
   "outputs": [
    {
     "data": {
      "text/plain": [
       "Time (DateTime)\n",
       "08/05/2019    109.728507\n",
       "08/06/2019    105.341303\n",
       "08/07/2019    107.553860\n",
       "08/08/2019    105.017055\n",
       "08/09/2019     39.554909\n",
       "08/10/2019     30.266356\n",
       "08/12/2019     49.255077\n",
       "Name: Oil Temperature (C), dtype: float64"
      ]
     },
     "execution_count": 206,
     "metadata": {},
     "output_type": "execute_result"
    }
   ],
   "source": [
    "divideByDay(truck1data, \"Oil Temperature (C)\")"
   ]
  },
  {
   "cell_type": "code",
   "execution_count": null,
   "metadata": {},
   "outputs": [],
   "source": [
    "def datetimeToSeconds(indTo, indTill):\n",
    "    FMT = '%m/%d/%Y %H:%M:%S.%f'\n",
    "\n",
    "    d1 = datetime.strptime(str(truck1data['Time (DateTime)'][indTill]), FMT)\n",
    "\n",
    "    #print(d1)\n",
    "\n",
    "    d2 = datetime.strptime(str(truck1data['Time (DateTime)'][indTo]), FMT)\n",
    "\n",
    "    #print(d2)\n",
    "\n",
    "    return (d1-d2).total_seconds()\n",
    "    \n",
    "    \n",
    "\n",
    "print(datetimeToSeconds(338, 27241))"
   ]
  },
  {
   "cell_type": "code",
   "execution_count": null,
   "metadata": {},
   "outputs": [],
   "source": [
    "t2_oiltemp = divideByDay(truck2data, \"Oil Temperature (C)\")"
   ]
  },
  {
   "cell_type": "code",
   "execution_count": null,
   "metadata": {},
   "outputs": [],
   "source": [
    "def detectIdeal(truck_df):\n",
    "    df_list = np.split(truck_df, truck_df[truck_df.isnull().all(1)].index) \n",
    "    valid_df_list = []\n",
    "    for tdf in df_list:\n",
    "        #if datetimeToSeconds(df_list.index.start, df_list.index.stop)\n",
    "        #df_list.index.start\n",
    "        \n",
    "        #print(tdf[\"Oil Temperature (C)\"])\n",
    "        truck_ses_temp_diff = tdf[\"Oil Temperature (C)\"][tdf.index.stop - 1] - tdf[\"Oil Temperature (C)\"][tdf.index.start + 1] \n",
    "        \n",
    "        truck_ses_sec = datetimeToSeconds(tdf.index.start + 1, tdf.index.stop - 1)\n",
    "        #print(truck_ses_sec)\n",
    "        #print(truck_ses_temp_diff)\n",
    "        \n",
    "        # If the session the truck has been turned on is greater than 600 seconds then proceeds \n",
    "        if truck_ses_sec > 600:\n",
    "        # If the session for the truck has less than 40 degrees (C) difference from start to end then dont add to valid list\n",
    "            if truck_ses_temp_diff > 40:\n",
    "                valid_df_list.append(tdf)\n",
    "    \n",
    "    return valid_df_list\n",
    "    #print(df_list)\n",
    "        "
   ]
  },
  {
   "cell_type": "code",
   "execution_count": null,
   "metadata": {},
   "outputs": [],
   "source": [
    "detectIdeal(truck1data) "
   ]
  },
  {
   "cell_type": "code",
   "execution_count": null,
   "metadata": {},
   "outputs": [],
   "source": [
    "df_list = np.split(truck1data, truck1data[truck1data.isnull().all(1)].index) \n",
    "def getIdealTemp():\n",
    "    min_temp_df = []\n",
    "    for truck_df in detectIdeal(truck1data):\n",
    "        ideal_temp = truck_df[\"Oil Temperature (C)\"].mean()\n",
    "        min_temp_df = truck_df[truck_df[\"Oil Temperature (C)\"] == truck_df[\"Oil Temperature (C)\"].min()][\"Time (DateTime)\"]\n",
    "        #print(min_temp_df.index[0])\n",
    "        \n",
    "        ideal_df = truck_df.loc[truck_df['Oil Temperature (C)'] >= ideal_temp]['Oil Temperature (C)']\n",
    "        #print(ideal_df.index[1])\n",
    "        \n",
    "        print(datetimeToSeconds(min_temp_df.index[0], ideal_df.index[1]))\n",
    "        print\n",
    "        \n",
    "getIdealTemp()"
   ]
  },
  {
   "cell_type": "code",
   "execution_count": null,
   "metadata": {},
   "outputs": [],
   "source": [
    "removeUnnecessaryRows(truck1data)\n",
    "print(truck1data['Time (DateTime)'])\n",
    "outside_air_temp = divideByDay(truck1data, 'Outside Air Temperature (C)')"
   ]
  },
  {
   "cell_type": "code",
   "execution_count": null,
   "metadata": {},
   "outputs": [],
   "source": []
  }
 ],
 "metadata": {
  "kernelspec": {
   "display_name": "Python 3",
   "language": "python",
   "name": "python3"
  },
  "language_info": {
   "codemirror_mode": {
    "name": "ipython",
    "version": 3
   },
   "file_extension": ".py",
   "mimetype": "text/x-python",
   "name": "python",
   "nbconvert_exporter": "python",
   "pygments_lexer": "ipython3",
   "version": "3.7.4"
  }
 },
 "nbformat": 4,
 "nbformat_minor": 2
}
