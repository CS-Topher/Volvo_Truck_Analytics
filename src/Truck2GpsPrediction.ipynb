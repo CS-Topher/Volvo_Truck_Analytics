{
 "cells": [
  {
   "cell_type": "markdown",
   "metadata": {},
   "source": [
    "# Predicting 'GPS Speed' of Truck 2"
   ]
  },
  {
   "cell_type": "markdown",
   "metadata": {},
   "source": [
    "#### Imports and global variables are defined here."
   ]
  },
  {
   "cell_type": "code",
   "execution_count": 1,
   "metadata": {},
   "outputs": [],
   "source": [
    "# Imports required for this notebook.\n",
    "import csv\n",
    "import matplotlib.pyplot as plt\n",
    "import numpy as np\n",
    "import pandas as pd\n",
    "import scipy\n",
    "import scipy.stats as stats\n",
    "import seaborn as sns\n",
    "\n",
    "# Local path to the CSV file containing the data for truck one (1).\n",
    "truckOnePath = \"../data/trucks/truck1.csv\"\n",
    "\n",
    "# Local path to the CSV file containing the data for truck two (2).\n",
    "truckTwoPath = \"../data/trucks/truck2.csv\""
   ]
  },
  {
   "cell_type": "markdown",
   "metadata": {},
   "source": [
    "#### Functions are defined here."
   ]
  },
  {
   "cell_type": "code",
   "execution_count": 2,
   "metadata": {},
   "outputs": [],
   "source": [
    "\"\"\"Uses Pandas's read_csv method to read a CSV file and returns a DataFrame of it to the notebook.\n",
    "This function reads in all rows and defines the header row at index 0 by default.\"\"\"\n",
    "def readCsv(truck, records = None, headerIdx = 0):\n",
    "    return pd.read_csv(truck, nrows = records, header = [headerIdx])\n",
    "\n",
    "\"\"\"Takes a data frame of a truck (with inaccurate data) and the mean difference of a \n",
    "different truck (with accurate data) in order to attempt to predict or correct the GPS Speed value.\"\"\"\n",
    "def correctGps(truckDf, meanDiff):\n",
    "    for i in truckDf:\n",
    "        truckDf['CorrectedGpsSpeed'] = truckDf['WheelBasedVehicleSpeed'] + meanDiff\n",
    "        \n",
    "    return truckDf"
   ]
  },
  {
   "cell_type": "markdown",
   "metadata": {},
   "source": [
    "#### Predicting GPS Speed for Truck 2"
   ]
  },
  {
   "cell_type": "markdown",
   "metadata": {},
   "source": [
    "Based on our previous statistics, it is clear that the GPS Speed for Truck 2 is incorrect. Perhaps the component was broken, or maybe it was set to a different unit. Either way, it is not consistent with the Wheel-Based Vehicle Speed (which appears to be working correctly) and it is not consistent with the trends found in Truck 1, where both components were measuring relatively similar speeds at any given time.\n",
    "\n",
    "In an attempt to rectify this, we will be using data from Truck 1 and analytically predict the GPS Speed values for Truck 2 given its Wheel-Based Vehicle Speed values."
   ]
  },
  {
   "cell_type": "code",
   "execution_count": 3,
   "metadata": {},
   "outputs": [],
   "source": [
    "# Read in the data for Truck 1.\n",
    "truckOneDf = readCsv(truckOnePath)\n",
    "truckOneDf = truckOneDf.ffill().bfill()\n",
    "\n",
    "# Read in the data for Truck 2.\n",
    "truckTwoDf = readCsv(truckTwoPath)\n",
    "truckTwoDf = truckTwoDf.ffill().bfill()"
   ]
  },
  {
   "cell_type": "markdown",
   "metadata": {},
   "source": [
    "To decide how to correct Truck 2's GPS Speed, we need to find the difference between the two components for Truck 1."
   ]
  },
  {
   "cell_type": "code",
   "execution_count": 4,
   "metadata": {},
   "outputs": [
    {
     "name": "stdout",
     "output_type": "stream",
     "text": [
      "-0.28539807628549124\n"
     ]
    }
   ],
   "source": [
    "# Subtract the values of Wheel-Based Vehicle Speed from GPS Speed for Truck 1.\n",
    "truckOneDiff = truckOneDf['GPS speed'].sub(truckOneDf['WheelBasedVehicleSpeed'])\n",
    "\n",
    "# Calculate the average difference between all of the points of difference.\n",
    "truckOneDiffMean = truckOneDiff.mean()\n",
    "\n",
    "# Print the average difference of both components for Truck 1.\n",
    "print(truckOneDiffMean)"
   ]
  },
  {
   "cell_type": "markdown",
   "metadata": {},
   "source": [
    "Notice that the value is a negative number. This indicates that the GPS Speed component is, on average, reading a slightly higher value than the Wheel-Based Vehicle Speed component. Therefore, to begin predicting, or \"correcting\", the GPS Speed for Truck 2, we can start by simply adding that average to any given Wheel-Based Vehicle Speed value for Truck 2.\n",
    "\n",
    "We will use the function defined in the functions section of this notebook."
   ]
  },
  {
   "cell_type": "code",
   "execution_count": 5,
   "metadata": {},
   "outputs": [],
   "source": [
    "correctedTruckTwoDf = correctGps(truckTwoDf, truckOneDiffMean)"
   ]
  },
  {
   "cell_type": "markdown",
   "metadata": {},
   "source": [
    "Since it would be impractical to verify that each estimate is accurate, we will use the means of each component. Using matplotlib, we can visually see the average values for the Wheel-Based Speed and Corrected GPS Speed. They are appearing very close together, as expected."
   ]
  },
  {
   "cell_type": "code",
   "execution_count": 6,
   "metadata": {
    "scrolled": true
   },
   "outputs": [
    {
     "data": {
      "image/png": "[encoded data removed]",
      "text/plain": [
       "<Figure size 432x288 with 1 Axes>"
      ]
     },
     "metadata": {
      "needs_background": "light"
     },
     "output_type": "display_data"
    }
   ],
   "source": [
    "# Calculating the means for each component and the corrected GPS Speed values.\n",
    "correctedGpsMean = correctedTruckTwoDf['CorrectedGpsSpeed'].mean()\n",
    "wheelMean = correctedTruckTwoDf['WheelBasedVehicleSpeed'].mean()\n",
    "gpsMean = correctedTruckTwoDf['GPS speed'].mean()\n",
    "\n",
    "# Create a list of x-axis labels then a list of values to pull from for each label.\n",
    "x = ['GPS Speed', 'Wheel-Based Speed', 'Corrected GPS Speed']\n",
    "meanCollection = [gpsMean, wheelMean, correctedGpsMean]\n",
    "\n",
    "# Attach each value to the corresponding label.\n",
    "x_pos = [i for i, _ in enumerate(x)]\n",
    "\n",
    "# Create bar chart for the defined values.\n",
    "plt.bar(x_pos, meanCollection, color='blue')\n",
    "\n",
    "# Set the names for x-axis and y-axis.\n",
    "plt.xlabel(\"Component\")\n",
    "plt.ylabel(\"Mean Value\")\n",
    "\n",
    "# Set the title for the bar chart.\n",
    "plt.title(\"Mean Values of Truck 2 Components\")\n",
    "\n",
    "# Place tick marks at each x position.\n",
    "plt.xticks(x_pos, x)\n",
    "\n",
    "# Display the bar chart.\n",
    "plt.show()"
   ]
  },
  {
   "cell_type": "markdown",
   "metadata": {},
   "source": [
    "These are the raw values for those components to get an exact amount."
   ]
  },
  {
   "cell_type": "code",
   "execution_count": 7,
   "metadata": {},
   "outputs": [
    {
     "name": "stdout",
     "output_type": "stream",
     "text": [
      "GPS Speed Mean: 22.685516192007974\n",
      "Wheel-Based Speed Mean: 82.13312230404554\n",
      "Corrected GPS Speed Mean: 81.84772422776032\n"
     ]
    }
   ],
   "source": [
    "# Calculate the difference between the average wheel speed value and the corrected GPS average speed value (hypo. testing?)\n",
    "truckTwoSpeedDiffAvg = wheelMean - correctedGpsMean\n",
    "\n",
    "# Print the raw mean values for easier interpretation.\n",
    "print(\"GPS Speed Mean: \" + str(gpsMean))\n",
    "print(\"Wheel-Based Speed Mean: \" + str(wheelMean))\n",
    "print(\"Corrected GPS Speed Mean: \" + str(correctedGpsMean))"
   ]
  },
  {
   "cell_type": "markdown",
   "metadata": {},
   "source": [
    "To see how well this worked, let's take a look at the data for Truck 1."
   ]
  },
  {
   "cell_type": "code",
   "execution_count": 8,
   "metadata": {
    "scrolled": true
   },
   "outputs": [
    {
     "data": {
      "image/png": "[encoded data removed]",
      "text/plain": [
       "<Figure size 432x288 with 1 Axes>"
      ]
     },
     "metadata": {
      "needs_background": "light"
     },
     "output_type": "display_data"
    }
   ],
   "source": [
    "# Calculating the means for each component.\n",
    "wheelMean = truckOneDf['WheelBasedVehicleSpeed'].mean()\n",
    "gpsMean = truckOneDf['GPS speed'].mean()\n",
    "\n",
    "# Create a list of x-axis labels then a list of values to pull from for each label.\n",
    "x = ['GPS Speed', 'Wheel-Based Speed']\n",
    "meanCollection = [gpsMean, wheelMean]\n",
    "\n",
    "# Attach each value to the corresponding label.\n",
    "x_pos = [i for i, _ in enumerate(x)]\n",
    "\n",
    "# Create bar chart for the defined values.\n",
    "plt.bar(x_pos, meanCollection, color='green')\n",
    "\n",
    "# Set the names for x-axis and y-axis.\n",
    "plt.xlabel(\"Component\")\n",
    "plt.ylabel(\"Mean Value\")\n",
    "\n",
    "# Set the title for the bar chart.\n",
    "plt.title(\"Mean Values of Truck 1 Components\")\n",
    "\n",
    "# Place tick marks at each x position.\n",
    "plt.xticks(x_pos, x)\n",
    "\n",
    "# Display the bar chart.\n",
    "plt.show()"
   ]
  },
  {
   "cell_type": "markdown",
   "metadata": {},
   "source": [
    "These are the raw values for the working components on Truck 1."
   ]
  },
  {
   "cell_type": "code",
   "execution_count": 9,
   "metadata": {},
   "outputs": [
    {
     "name": "stdout",
     "output_type": "stream",
     "text": [
      "GPS Speed Mean: 74.5450583567317\n",
      "Wheel-Based Speed Mean: 74.83045643301719\n"
     ]
    }
   ],
   "source": [
    "# Calculate the difference between the average wheel speed value and the GPS average speed value (hypo. testing?)\n",
    "truckOneSpeedDiffAvg = wheelMean - gpsMean\n",
    "\n",
    "# Print the raw mean values for easier interpretation.\n",
    "print(\"GPS Speed Mean: \" + str(gpsMean))\n",
    "print(\"Wheel-Based Speed Mean: \" + str(wheelMean))"
   ]
  },
  {
   "cell_type": "markdown",
   "metadata": {},
   "source": [
    "As we can see, the differences in these values are relatively the same with GPS Speed reading slightly lower than Wheel-Based Speed, on average. This is consistent between Truck 1 and the corrected values of Truck 2. Again, since it is impractical to verify the validity of each individual reading, we are forced to look at averages. Overall, the estimates appear to be quite tight but fairly consistent."
   ]
  }
 ],
 "metadata": {
  "kernelspec": {
   "display_name": "Python 3",
   "language": "python",
   "name": "python3"
  },
  "language_info": {
   "codemirror_mode": {
    "name": "ipython",
    "version": 3
   },
   "file_extension": ".py",
   "mimetype": "text/x-python",
   "name": "python",
   "nbconvert_exporter": "python",
   "pygments_lexer": "ipython3",
   "version": "3.7.5"
  }
 },
 "nbformat": 4,
 "nbformat_minor": 2
}
