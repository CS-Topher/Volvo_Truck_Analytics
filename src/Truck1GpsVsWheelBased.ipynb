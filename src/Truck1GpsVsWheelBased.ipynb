{
 "cells": [
  {
   "cell_type": "markdown",
   "metadata": {},
   "source": [
    "# Truck 1: GPS Speed vs. Wheel-Based Speed"
   ]
  },
  {
   "cell_type": "markdown",
   "metadata": {},
   "source": [
    "#### Imports and global variables are defined here."
   ]
  },
  {
   "cell_type": "code",
   "execution_count": 1,
   "metadata": {},
   "outputs": [],
   "source": [
    "# Imports required for this notebook.\n",
    "import numpy as np\n",
    "import pandas as pd\n",
    "import csv\n",
    "import matplotlib.pyplot as plt\n",
    "import scipy\n",
    "\n",
    "# Local path to the CSV file containing the data for truck two (2).\n",
    "truckOnePath = \"../data/trucks/truck1.csv\""
   ]
  },
  {
   "cell_type": "markdown",
   "metadata": {},
   "source": [
    "#### Functions are defined here."
   ]
  },
  {
   "cell_type": "code",
   "execution_count": 15,
   "metadata": {},
   "outputs": [],
   "source": [
    "\"\"\"Uses Pandas's read_csv method to read a CSV file and returns a DataFrame of it to the notebook.\n",
    "This function reads in all rows and defines the header row at index 0 by default.\"\"\"\n",
    "def readCsv(truck, records = None, headerIdx = 0):\n",
    "    return pd.read_csv(truck, nrows = records, header = [headerIdx])"
   ]
  },
  {
   "cell_type": "markdown",
   "metadata": {},
   "source": [
    "##### GPS Speed vs. Wheel-Based Speed"
   ]
  },
  {
   "cell_type": "markdown",
   "metadata": {},
   "source": [
    "Reading in the truck data; one can change how many records are read by using \"records = <#>\" in the readCsv function or remove it entirely to read all records."
   ]
  },
  {
   "cell_type": "code",
   "execution_count": 3,
   "metadata": {},
   "outputs": [
    {
     "data": {
      "text/html": [
       "<div>\n",
       "<style scoped>\n",
       "    .dataframe tbody tr th:only-of-type {\n",
       "        vertical-align: middle;\n",
       "    }\n",
       "\n",
       "    .dataframe tbody tr th {\n",
       "        vertical-align: top;\n",
       "    }\n",
       "\n",
       "    .dataframe thead th {\n",
       "        text-align: right;\n",
       "    }\n",
       "</style>\n",
       "<table border=\"1\" class=\"dataframe\">\n",
       "  <thead>\n",
       "    <tr style=\"text-align: right;\">\n",
       "      <th></th>\n",
       "      <th>Time</th>\n",
       "      <th>C_1115_1_Alternator_250A</th>\n",
       "      <th>C_1115_2_BattOut_100A</th>\n",
       "      <th>C_1115_3_Fridge_20A</th>\n",
       "      <th>C_1115_4_Trailer_50A</th>\n",
       "      <th>C_1115_5_Inventer_100A</th>\n",
       "      <th>TotalVehicleDistanceHighRes</th>\n",
       "      <th>EngineSpeed</th>\n",
       "      <th>WheelBasedVehicleSpeed</th>\n",
       "      <th>asu_UreaTankTemp</th>\n",
       "      <th>...</th>\n",
       "      <th>tse_TurboSpeed</th>\n",
       "      <th>CPU load</th>\n",
       "      <th>UTC hour</th>\n",
       "      <th>UTC minute</th>\n",
       "      <th>UTC second</th>\n",
       "      <th>UTC month</th>\n",
       "      <th>UTC day</th>\n",
       "      <th>UTC year</th>\n",
       "      <th>GPS altitude</th>\n",
       "      <th>GPS speed</th>\n",
       "    </tr>\n",
       "  </thead>\n",
       "  <tbody>\n",
       "    <tr>\n",
       "      <th>0</th>\n",
       "      <td>03/11/2019 14:49:09.038</td>\n",
       "      <td>-35.452125</td>\n",
       "      <td>4.949645</td>\n",
       "      <td>0.555047</td>\n",
       "      <td>-0.430114</td>\n",
       "      <td>-2.283131</td>\n",
       "      <td>NaN</td>\n",
       "      <td>1096.375</td>\n",
       "      <td>106.886719</td>\n",
       "      <td>NaN</td>\n",
       "      <td>...</td>\n",
       "      <td>NaN</td>\n",
       "      <td>75.0</td>\n",
       "      <td>18.0</td>\n",
       "      <td>49.0</td>\n",
       "      <td>11.0</td>\n",
       "      <td>3.0</td>\n",
       "      <td>11.0</td>\n",
       "      <td>19.0</td>\n",
       "      <td>337.5</td>\n",
       "      <td>29.323334</td>\n",
       "    </tr>\n",
       "    <tr>\n",
       "      <th>1</th>\n",
       "      <td>03/11/2019 14:49:09.138</td>\n",
       "      <td>-35.480735</td>\n",
       "      <td>5.270085</td>\n",
       "      <td>0.626764</td>\n",
       "      <td>-0.420577</td>\n",
       "      <td>-2.294575</td>\n",
       "      <td>NaN</td>\n",
       "      <td>1098.875</td>\n",
       "      <td>107.101562</td>\n",
       "      <td>NaN</td>\n",
       "      <td>...</td>\n",
       "      <td>NaN</td>\n",
       "      <td>75.0</td>\n",
       "      <td>18.0</td>\n",
       "      <td>49.0</td>\n",
       "      <td>11.0</td>\n",
       "      <td>3.0</td>\n",
       "      <td>11.0</td>\n",
       "      <td>19.0</td>\n",
       "      <td>337.5</td>\n",
       "      <td>29.323334</td>\n",
       "    </tr>\n",
       "    <tr>\n",
       "      <th>2</th>\n",
       "      <td>03/11/2019 14:49:09.238</td>\n",
       "      <td>-35.480735</td>\n",
       "      <td>5.197604</td>\n",
       "      <td>0.568780</td>\n",
       "      <td>-62.500000</td>\n",
       "      <td>-2.271687</td>\n",
       "      <td>NaN</td>\n",
       "      <td>1096.750</td>\n",
       "      <td>107.089844</td>\n",
       "      <td>NaN</td>\n",
       "      <td>...</td>\n",
       "      <td>NaN</td>\n",
       "      <td>75.0</td>\n",
       "      <td>18.0</td>\n",
       "      <td>49.0</td>\n",
       "      <td>11.0</td>\n",
       "      <td>3.0</td>\n",
       "      <td>11.0</td>\n",
       "      <td>19.0</td>\n",
       "      <td>337.5</td>\n",
       "      <td>29.323334</td>\n",
       "    </tr>\n",
       "    <tr>\n",
       "      <th>3</th>\n",
       "      <td>03/11/2019 14:49:09.338</td>\n",
       "      <td>-35.452125</td>\n",
       "      <td>5.418860</td>\n",
       "      <td>0.638209</td>\n",
       "      <td>-62.500000</td>\n",
       "      <td>-2.290761</td>\n",
       "      <td>411617045.0</td>\n",
       "      <td>1098.375</td>\n",
       "      <td>106.921875</td>\n",
       "      <td>NaN</td>\n",
       "      <td>...</td>\n",
       "      <td>NaN</td>\n",
       "      <td>75.0</td>\n",
       "      <td>18.0</td>\n",
       "      <td>49.0</td>\n",
       "      <td>11.0</td>\n",
       "      <td>3.0</td>\n",
       "      <td>11.0</td>\n",
       "      <td>19.0</td>\n",
       "      <td>337.5</td>\n",
       "      <td>29.323334</td>\n",
       "    </tr>\n",
       "    <tr>\n",
       "      <th>4</th>\n",
       "      <td>03/11/2019 14:49:09.438</td>\n",
       "      <td>-35.471199</td>\n",
       "      <td>5.228122</td>\n",
       "      <td>0.590143</td>\n",
       "      <td>-62.500000</td>\n",
       "      <td>-2.283131</td>\n",
       "      <td>411617045.0</td>\n",
       "      <td>1101.750</td>\n",
       "      <td>107.109375</td>\n",
       "      <td>NaN</td>\n",
       "      <td>...</td>\n",
       "      <td>NaN</td>\n",
       "      <td>75.0</td>\n",
       "      <td>18.0</td>\n",
       "      <td>49.0</td>\n",
       "      <td>11.0</td>\n",
       "      <td>3.0</td>\n",
       "      <td>11.0</td>\n",
       "      <td>19.0</td>\n",
       "      <td>337.5</td>\n",
       "      <td>29.323334</td>\n",
       "    </tr>\n",
       "  </tbody>\n",
       "</table>\n",
       "<p>5 rows × 46 columns</p>\n",
       "</div>"
      ],
      "text/plain": [
       "                      Time  C_1115_1_Alternator_250A  C_1115_2_BattOut_100A  \\\n",
       "0  03/11/2019 14:49:09.038                -35.452125               4.949645   \n",
       "1  03/11/2019 14:49:09.138                -35.480735               5.270085   \n",
       "2  03/11/2019 14:49:09.238                -35.480735               5.197604   \n",
       "3  03/11/2019 14:49:09.338                -35.452125               5.418860   \n",
       "4  03/11/2019 14:49:09.438                -35.471199               5.228122   \n",
       "\n",
       "   C_1115_3_Fridge_20A  C_1115_4_Trailer_50A  C_1115_5_Inventer_100A  \\\n",
       "0             0.555047             -0.430114               -2.283131   \n",
       "1             0.626764             -0.420577               -2.294575   \n",
       "2             0.568780            -62.500000               -2.271687   \n",
       "3             0.638209            -62.500000               -2.290761   \n",
       "4             0.590143            -62.500000               -2.283131   \n",
       "\n",
       "   TotalVehicleDistanceHighRes  EngineSpeed  WheelBasedVehicleSpeed  \\\n",
       "0                          NaN     1096.375              106.886719   \n",
       "1                          NaN     1098.875              107.101562   \n",
       "2                          NaN     1096.750              107.089844   \n",
       "3                  411617045.0     1098.375              106.921875   \n",
       "4                  411617045.0     1101.750              107.109375   \n",
       "\n",
       "   asu_UreaTankTemp    ...      tse_TurboSpeed  CPU load  UTC hour  \\\n",
       "0               NaN    ...                 NaN      75.0      18.0   \n",
       "1               NaN    ...                 NaN      75.0      18.0   \n",
       "2               NaN    ...                 NaN      75.0      18.0   \n",
       "3               NaN    ...                 NaN      75.0      18.0   \n",
       "4               NaN    ...                 NaN      75.0      18.0   \n",
       "\n",
       "   UTC minute  UTC second  UTC month  UTC day  UTC year  GPS altitude  \\\n",
       "0        49.0        11.0        3.0     11.0      19.0         337.5   \n",
       "1        49.0        11.0        3.0     11.0      19.0         337.5   \n",
       "2        49.0        11.0        3.0     11.0      19.0         337.5   \n",
       "3        49.0        11.0        3.0     11.0      19.0         337.5   \n",
       "4        49.0        11.0        3.0     11.0      19.0         337.5   \n",
       "\n",
       "   GPS speed  \n",
       "0  29.323334  \n",
       "1  29.323334  \n",
       "2  29.323334  \n",
       "3  29.323334  \n",
       "4  29.323334  \n",
       "\n",
       "[5 rows x 46 columns]"
      ]
     },
     "execution_count": 3,
     "metadata": {},
     "output_type": "execute_result"
    }
   ],
   "source": [
    "truckOneDf = readCsv(truckOnePath)\n",
    "truckOneDf.head()"
   ]
  },
  {
   "cell_type": "code",
   "execution_count": 4,
   "metadata": {
    "scrolled": false
   },
   "outputs": [
    {
     "data": {
      "text/plain": [
       "<matplotlib.axes._subplots.AxesSubplot at 0x1bed5bb95c8>"
      ]
     },
     "execution_count": 4,
     "metadata": {},
     "output_type": "execute_result"
    },
    {
     "data": {
      "image/png": "[encoded data removed]",
      "text/plain": [
       "<Figure size 432x288 with 1 Axes>"
      ]
     },
     "metadata": {
      "needs_background": "light"
     },
     "output_type": "display_data"
    },
    {
     "data": {
      "image/png": "[encoded data removed]",
      "text/plain": [
       "<Figure size 432x288 with 1 Axes>"
      ]
     },
     "metadata": {
      "needs_background": "light"
     },
     "output_type": "display_data"
    }
   ],
   "source": [
    "columns = ['GPS speed', 'WheelBasedVehicleSpeed']\n",
    "gpsSpeedHist = truckOneDf[['GPS speed']].plot.hist(stacked=True)\n",
    "gpsSpeedHist.set_xlabel('GPS Speed (km/hr)')\n",
    "gpsSpeedHist.set_ylabel('Number of Occurrences')\n",
    "\n",
    "wheelSpeedHist = truckOneDf[['WheelBasedVehicleSpeed']].plot.hist(stacked=True)\n",
    "wheelSpeedHist.set_xlabel('Wheel-Based Speed (km/hr)')\n",
    "wheelSpeedHist.set_ylabel('Number of Occurrences')\n",
    "\n",
    "gpsSpeedHist\n",
    "wheelSpeedHist"
   ]
  },
  {
   "cell_type": "code",
   "execution_count": 5,
   "metadata": {},
   "outputs": [
    {
     "data": {
      "text/plain": [
       "<matplotlib.axes._subplots.AxesSubplot at 0x1bed5c76388>"
      ]
     },
     "execution_count": 5,
     "metadata": {},
     "output_type": "execute_result"
    },
    {
     "data": {
      "image/png": "[encoded data removed]",
      "text/plain": [
       "<Figure size 432x288 with 1 Axes>"
      ]
     },
     "metadata": {
      "needs_background": "light"
     },
     "output_type": "display_data"
    }
   ],
   "source": [
    "gpsSpeedBox = truckOneDf[['GPS speed']].boxplot()\n",
    "gpsSpeedBox.set_xlabel('GPS Speed (km/hr)')\n",
    "gpsSpeedBox.set_ylabel('Number of Occurrences')\n",
    "\n",
    "gpsSpeedBox"
   ]
  },
  {
   "cell_type": "code",
   "execution_count": 6,
   "metadata": {},
   "outputs": [
    {
     "data": {
      "text/plain": [
       "<matplotlib.axes._subplots.AxesSubplot at 0x1bed5fda448>"
      ]
     },
     "execution_count": 6,
     "metadata": {},
     "output_type": "execute_result"
    },
    {
     "data": {
      "image/png": "[encoded data removed]",
      "text/plain": [
       "<Figure size 432x288 with 1 Axes>"
      ]
     },
     "metadata": {
      "needs_background": "light"
     },
     "output_type": "display_data"
    }
   ],
   "source": [
    "wheelSpeedBox = truckOneDf[['WheelBasedVehicleSpeed']].boxplot()\n",
    "wheelSpeedBox.set_xlabel('Wheel-Based Speed (km/hr)')\n",
    "wheelSpeedBox.set_ylabel('Number of Occurrences')\n",
    "\n",
    "wheelSpeedBox"
   ]
  },
  {
   "cell_type": "markdown",
   "metadata": {},
   "source": [
    "It's clear that both of these components have a similar trend; there is definitely a skewness to them. However, upon further inspection, the GPS Speed has a different scale on its x-axis. These are both supposed to be measured in km/hr.\n",
    "\n",
    "It's possible that:\n",
    "- The provided units for GPS Speed were incorrect.\n",
    "- The GPS Speed unit is configured to a different unit of measurement (accidental or intentional).\n",
    "  - Note: we have not yet found a conversion that matches the readings.\n",
    "- The GPS Speed unit was incorrectly set up.\n",
    "\n",
    "We can also see that there is a significant amount of readings near zero. We hypothesize that these values are from moments of inactivity, such as stopping at a light or leaving the truck on without moving. Outlier detection is currently being developed and will hopefully snuff these values out."
   ]
  },
  {
   "cell_type": "code",
   "execution_count": 7,
   "metadata": {},
   "outputs": [
    {
     "data": {
      "text/plain": [
       "<matplotlib.axes._subplots.AxesSubplot at 0x1bed6057348>"
      ]
     },
     "execution_count": 7,
     "metadata": {},
     "output_type": "execute_result"
    },
    {
     "data": {
      "image/png": "[encoded data removed]",
      "text/plain": [
       "<Figure size 432x288 with 1 Axes>"
      ]
     },
     "metadata": {
      "needs_background": "light"
     },
     "output_type": "display_data"
    }
   ],
   "source": [
    "gpsSpeedDist = truckOneDf[['GPS speed']].plot.kde()\n",
    "gpsSpeedDist.set_xlabel('GPS Speed (km/hr)')\n",
    "gpsSpeedDist.set_ylabel('Number of Occurrences')\n",
    "\n",
    "gpsSpeedDist"
   ]
  },
  {
   "cell_type": "code",
   "execution_count": 8,
   "metadata": {
    "scrolled": true
   },
   "outputs": [
    {
     "data": {
      "text/plain": [
       "<matplotlib.axes._subplots.AxesSubplot at 0x1bed82d1288>"
      ]
     },
     "execution_count": 8,
     "metadata": {},
     "output_type": "execute_result"
    },
    {
     "data": {
      "image/png": "[encoded data removed]",
      "text/plain": [
       "<Figure size 432x288 with 1 Axes>"
      ]
     },
     "metadata": {
      "needs_background": "light"
     },
     "output_type": "display_data"
    }
   ],
   "source": [
    "wheelSpeedDist = truckOneDf[['WheelBasedVehicleSpeed']].plot.kde()\n",
    "wheelSpeedDist.set_xlabel('WheelBasedVehicleSpeed (km/hr)')\n",
    "wheelSpeedDist.set_ylabel('Number of Occurrences')\n",
    "\n",
    "wheelSpeedDist"
   ]
  },
  {
   "cell_type": "markdown",
   "metadata": {},
   "source": [
    "At this point, since we haven't removed outliers or the movements of zero (stopped), there are two peaks which means that the raw data is bimodal. This would typically indicate that there are two groups within the data set; this data could technically have two groups: a stopped state and a moving state, where stopped represents all of the points near zero and the moving state represents all of the points near the right peak."
   ]
  }
 ],
 "metadata": {
  "kernelspec": {
   "display_name": "Python 3",
   "language": "python",
   "name": "python3"
  },
  "language_info": {
   "codemirror_mode": {
    "name": "ipython",
    "version": 3
   },
   "file_extension": ".py",
   "mimetype": "text/x-python",
   "name": "python",
   "nbconvert_exporter": "python",
   "pygments_lexer": "ipython3",
   "version": "3.7.5"
  }
 },
 "nbformat": 4,
 "nbformat_minor": 2
}
